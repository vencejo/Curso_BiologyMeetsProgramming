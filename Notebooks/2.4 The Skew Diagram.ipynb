{
 "cells": [
  {
   "cell_type": "markdown",
   "metadata": {
    "collapsed": true
   },
   "source": [
    "<img align=\"left\" style=\"padding-right:10px;\" src=\"figures/cartel.jpg\">\n",
    "<!--COURSE_INFORMATION-->\n",
    "## This notebook contains a unit from the course [Biology Meets Programming](https://www.coursera.org/learn/bioinformatics/home/welcome) by University of California in Coursera \n",
    "\n",
    "\n",
    "### The content is available [on GitHub](https://github.com/vencejo/Curso_BiologyMeetsProgramming)."
   ]
  },
  {
   "cell_type": "markdown",
   "metadata": {},
   "source": [
    "<!--NAVIGATION-->\n",
    "< [2.3 Peculiar Statistics of the Forward and Reverse Half-Strands](2.3 Peculiar Statistics of the Forward and Reverse Half-Strands.ipynb) | [Contents](Index.ipynb) | [2.5 Some Hidden Messages Are More Elusive than Others](2.5 Some Hidden Messages Are More Elusive than Others.ipynb)>"
   ]
  },
  {
   "cell_type": "markdown",
   "metadata": {},
   "source": [
    "\n",
    "\n",
    "In the table containing nucleotide counts for T. petrophila (reproduced below), we noted that not just C but also G has peculiar statistics on the forward and reverse half-strands.\n",
    "\n",
    "In practice, scientists use a more accurate approach that accounts for both G and C when searching for ori. As the above figure illustrates, the difference between the total amount of guanine and the total amount of cytosine is negative on the reverse half-strand and positive on the forward half-strand.\n",
    "\n",
    "<img align=\"center\" style=\"padding-right:10px;\" src=\"figures/fig23.png\">\n",
    "\n",
    "Thus, our idea is to traverse the genome, keeping a running total of the difference between the counts of G and C. If this difference starts increasing, then we guess that we are on the forward half-strand; on the other hand, if this difference starts decreasing, then we guess that we are on the reverse half-strand (see figure below).\n",
    "\n",
    "<img align=\"center\" style=\"padding-right:10px;\" src=\"figures/fig26.png\">\n"
   ]
  },
  {
   "cell_type": "markdown",
   "metadata": {},
   "source": [
    "We will keep track of the difference between the total number of occurrences of G and the total number of occurrences of C that we have encountered so far in Genome by using a skew array. This array, denoted Skew, is defined by setting Skew[i] equal to the number of occurrences of G minus the number of occurrences of C in the first i nucleotides of Genome (see figure below). We also set Skew[0] equal to zero.\n",
    "\n",
    "<img align=\"center\" style=\"padding-right:10px;\" src=\"figures/fig27.png\">\n",
    "\n",
    "Code Challenge (3 points): Use this idea to write a function Skew(Genome) that takes a DNA string Genome as input and returns the skew array of Genome in the form of a dictionary mapping the i-th symbol of Genome to Skew[i]. Then add this function to Replication.py.\n",
    "\n",
    "```python\n",
    "# Input:  A String Genome\n",
    "# Output: Skew(Genome)\n",
    "def Skew(Genome):\n",
    "    skew = {} #initializing the dictionary\n",
    "    # your code here\n",
    "    n = len(Genome)\n",
    "    skew[0] = 0\n",
    "    for i in range(1,n+1):\n",
    "        if Genome[i-1] == \"G\":\n",
    "            skew[i] = skew[i-1]+1\n",
    "        elif Genome[i-1] == \"C\":\n",
    "            skew[i] = skew[i-1]-1\n",
    "        else:\n",
    "            skew[i] = skew[i-1]\n",
    "            \n",
    "    return skew\n",
    "```\n",
    "\n",
    "The skew diagram of Genome is defined by plotting i against Skew[i] as i ranges from 0 to len(Genome). The figure below shows the skew diagram for the genome from the previous step.\n",
    "\n",
    "<img align=\"center\" style=\"padding-right:10px;\" src=\"figures/fig28.png\">\n",
    "\n",
    "The figure below depicts the skew diagram for a linearized E. coli genome. The pattern is even stronger than the pattern observed when we visualized the symbol array! It turns out that the skew diagram for many bacterial genomes has a similar characteristic shape.\n",
    "\n",
    "<img align=\"center\" style=\"padding-right:10px;\" src=\"figures/fig29.png\">\n",
    "\n",
    "STOP and Think: After looking at the E. coli skew diagram (reproduced below), where do you think that ori is located in E. coli?\n",
    "\n",
    "Let’s follow the 5' → 3' direction of DNA and walk along the chromosome from ter to ori (along a reverse half-strand), then continue on from ori to ter (along a forward half-strand). In the figure below, we see that the skew is decreasing along the reverse half-strand and increasing along the forward half-strand. Thus, the skew should achieve a minimum at the position where the reverse half-strand ends and the forward half-strand begins, which is exactly the location of ori!\n",
    "\n",
    "<img align=\"center\" style=\"padding-right:10px;\" src=\"figures/fig26.png\">\n"
   ]
  },
  {
   "cell_type": "markdown",
   "metadata": {},
   "source": [
    "\n",
    "\n",
    "We have just developed an insight for a new algorithm for locating ori: it should be found where the skew array attains a minimum.\n",
    "\n",
    "Minimum Skew Problem: ",
    " Find a position in a genome where the skew diagram attains a minimum.\n",
    " Input: A DNA string Genome. ",
    "\n",
    " Output: All integer(s) i minimizing Skew[i] among all values of i (from 0 to len(Genome)).\n",
    "\n",
    "Code Challenge (3 points): Write a function MinSkew taking a DNA string Genome as input and returning all integers i minimizing Skew[i] for Genome. Then add this function to Replication.py. (Hint: make sure to call Skew(Genome) as a subroutine, and keep in mind that Python has a built-in min function in addition to max.)\n",
    "\n",
    "Click here for this problem's test datasets.\n",
    "\n",
    "Sample Input:\n",
    "\n",
    "TAAAGACTGCCGAGAGGCCAACACGAGTGCTAGAACGAGGGGCGTAAACGCGGGTCCGAT\n",
    "\n",
    "Sample Output:\n",
    "\n",
    "11 24\n",
    "\n",
    "```python\n",
    "# Input:  A DNA string Genome\n",
    "# Output: A list containing all integers i minimizing Skew(Prefix_i(Text)) over all values of i (from 0 to |Genome|)\n",
    "def MinimumSkew(Genome):\n",
    "    positions = [] # output variable\n",
    "    # your code here\n",
    "    skew = Skew(Genome)\n",
    "    minValue = skew[0]\n",
    "    positions.append(minValue)\n",
    "    for i in range(1,len(Genome)):\n",
    "        if skew[i] < minValue:\n",
    "            minValue = skew[i]\n",
    "            positions = [i]\n",
    "        if skew[i] == minValue and i not in positions:\n",
    "            positions.append(i)\n",
    "    return positions\n",
    "```\n",
    "\n",
    "STOP and Think: Note that the skew diagram (reproduced below for E. coli) changes depending on where we start our walk along the circular chromosome. Does the minimum of the skew diagram point to the same genomic location regardless of where we begin walking to generate the skew diagram?\n",
    "\n",
    "<img align=\"center\" style=\"padding-right:10px;\" src=\"figures/fig29.png\">\n",
    "\n"
   ]
  },
  {
   "cell_type": "markdown",
   "metadata": {},
   "source": [
    "<!--NAVIGATION-->\n",
    "< [2.3 Peculiar Statistics of the Forward and Reverse Half-Strands](2.3 Peculiar Statistics of the Forward and Reverse Half-Strands.ipynb) | [Contents](Index.ipynb) | [2.5 Some Hidden Messages Are More Elusive than Others](2.5 Some Hidden Messages Are More Elusive than Others.ipynb)>"
   ]
  },
  {
   "cell_type": "code",
   "execution_count": null,
   "metadata": {
    "collapsed": true
   },
   "outputs": [],
   "source": []
  }
 ],
 "metadata": {
  "kernelspec": {
   "display_name": "Python 3",
   "language": "python",
   "name": "python3"
  },
  "language_info": {
   "codemirror_mode": {
    "name": "ipython",
    "version": 3
   },
   "file_extension": ".py",
   "mimetype": "text/x-python",
   "name": "python",
   "nbconvert_exporter": "python",
   "pygments_lexer": "ipython3",
   "version": "3.4.5"
  }
 },
 "nbformat": 4,
 "nbformat_minor": 0
}
