{
 "cells": [
  {
   "cell_type": "markdown",
   "metadata": {
    "collapsed": true
   },
   "source": [
    "<img align=\"left\" style=\"padding-right:10px;\" src=\"figures/cartel.jpg\">\n",
    "<!--COURSE_INFORMATION-->\n",
    "## This notebook contains a unit from the course [Biology Meets Programming](https://www.coursera.org/learn/bioinformatics/home/welcome) by University of California in Coursera \n",
    "\n",
    "\n",
    "### The content is available [on GitHub](https://github.com/vencejo/Curso_BiologyMeetsProgramming)."
   ]
  },
  {
   "cell_type": "markdown",
   "metadata": {},
   "source": [
    "<!--NAVIGATION-->\n",
    "< [2.4 The Skew Diagram](2.4 The Skew Diagram.ipynb) | [Contents](Index.ipynb) | [2.6 A Final Attempt at Finding DnaA Boxes in E. coli](2.6 A Final Attempt at Finding DnaA Boxes in E. coli.ipynb)>"
   ]
  },
  {
   "cell_type": "markdown",
   "metadata": {},
   "source": [
    "\n",
    "\n",
    "Solving the Minimum Skew Problem now provides us with an approximate location of ori at position 3923620 in E. coli. In an attempt to confirm this hypothesis, let’s look for a hidden message representing a potential DnaA box near this location. Solving the Frequent Words Problem in a window of length 500 starting at position 3923620 (shown below) reveals no 9-mers (along with their reverse complements) that appear three or more times! Even if we have located the position of ori in E. coli, it appears that we still have not found the DnaA boxes that jump-start replication in this bacterium . . .\n",
    "\n",
    "aatgatgatgacgtcaaaaggatccggataaaacatggtgattgcctcgcataacgcggt\n",
    "atgaaaatggattgaagcccgggccgtggattctactcaactttgtcggcttgagaaaga\n",
    "cctgggatcctgggtattaaaaagaagatctatttatttagagatctgttctattgtgat\n",
    "ctcttattaggatcgcactgccctgtggataacaaggatccggcttttaagatcaacaac\n",
    "ctggaaaggatcattaactgtgaatgatcggtgatcctggaccgtataagctgggatcag\n",
    "aatgaggggttatacacaactcaaaaactgaacaacagttgttctttggataactaccgg\n",
    "ttgatccaagcttcctgacagagttatccacagtagatcgcacgatctgtatacttattt\n",
    "gagtaaattaacccacgatcccagccattcttctgccggatcttccggaatgtcgtgatc\n",
    "aagaatgttgatcttcagtg                                        \n",
    "\n",
    "STOP and Think: What would you do next?\n",
    "\n",
    "<img align=\"center\" style=\"padding-right:10px;\" src=\"figures/fig30.png\">"
   ]
  },
  {
   "cell_type": "markdown",
   "metadata": {},
   "source": [
    "\n",
    "\n",
    "We say that position i in k-mers p and q is a mismatch if the symbols at position i of the two strings are not the same. The total number of mismatches between strings p and q is called the Hamming distance between these strings. We will let you implement a function to compute this distance, called HammingDistance(p, q).\n",
    "\n",
    "Hamming Distance Problem: ",
    " Compute the Hamming distance between two strings.\n",
    " Input: Two strings of equal length.\n",
    "  ",
    "Output: The Hamming distance between these strings.\n",
    "\n",
    "Code Challenge (2 points): Write a function HammingDistance solving the Hamming Distance Problem. Then add this function to Replication.py.\n",
    "\n",
    "Click here to download this problem's test datasets.\n",
    "\n",
    "Sample Input:\n",
    "\n",
    "GGGCCGTTGGT\n",
    "GGACCGTTGAC\n",
    "\n",
    "Sample Output:\n",
    "\n",
    "3\n",
    "\n",
    "You're right!\n",
    "\n",
    "\n",
    "```python\n",
    "# Input:  Two strings p and q\n",
    "\n",
    "# Output: An integer value representing the Hamming Distance between p and q.\n",
    "\n",
    "def HammingDistance(s1, s2):\n",
    "    distancia = 0\n",
    "    for i in range(len(s1)):\n",
    "        if s1[i] != s2[i]:\n",
    "            distancia = distancia + 1\n",
    "    return distancia\n",
    "    \n",
    "```"
   ]
  },
  {
   "cell_type": "markdown",
   "metadata": {},
   "source": [
    "\n",
    "\n",
    "We say that a k-mer Pattern appears as a substring of Text with at most d mismatches if there is some k-mer substring Pattern' of Text having d or fewer mismatches with Pattern; that is, HammingDistance(Pattern, Pattern') ≤ d. Our observation that a DnaA box may appear with slight variations leads to the following generalization of the Pattern Matching Problem.\n",
    "\n",
    "Approximate Pattern Matching Problem: ",
    " Find all approximate occurrences of a pattern in a string.\n",
    " Input: Strings Pattern and Text along with an integer d.\n",
    " Output: All starting positions where Pattern appears as a substring of Text with at most d mismatches.\n",
    "\n",
    "Code Challenge (3 points): Solve the Approximate Pattern Matching Problem. (Make sure to use HammingDistance as a subroutine!)\n",
    "\n",
    "Click here for this problem's test datasets.\n",
    "\n",
    "Sample Input:\n",
    "\n",
    "ATTCTGGA\n",
    "CGCCCGAATCCAGAACGCATTCCCATATTTCGGGACCACTGGCCTCCACGGTACGGACGTCAATCAAAT\n",
    "3\n",
    "\n",
    "Sample Output:\n",
    "\n",
    "6 7 26 27\n",
    "\n",
    "```python\n",
    "# Input:  Strings Pattern and Text along with an integer d\n",
    "# Output: A list containing all starting positions where Pattern appears\n",
    "# as a substring of Text with at most d mismatches\n",
    "def ApproximatePatternMatching(Pattern, Text, d):\n",
    "    positions = [] # output variable\n",
    "    # your code here\n",
    "    for i in range(len(Text)-len(Pattern)+1):\n",
    "        if HammingDistance(Text[i:i+len(Pattern)], Pattern) <= d:\n",
    "            positions.append(i)\n",
    "    return positions\n",
    "```\n",
    "\n",
    "\n",
    "\n",
    "Our goal now is to modify our previous algorithm for the Frequent Words Problem in order to find DnaA boxes by identifying frequent k-mers, possibly with mismatches. Given input strings Text and Pattern as well as an integer d, we extend the definition of PatternCount to the function ApproximatePatternCount(Pattern, Text, d). This function computes the number of occurrences of Pattern in Text with at most d mismatches. For example,\n",
    "\n",
    "ApproximatePatternCount(AAAAA, AACAAGCATAAACATTAAAGAG, 1) = 4\n",
    "\n",
    "because AAAAA appears four times in this string with at most one mismatch: AACAA, ATAAA, AAACA, and AAAGA. Notice that two of these occurrences overlap.\n",
    "\n",
    "Code Challenge (3 points): Implement the ApproximatePatternCount function in Python. (Hint: make a slight change to the code you wrote to solve the Approximate Pattern Matching Problem.)\n",
    "\n",
    "Click here for this problem's test datasets.\n",
    "\n",
    "Sample Input:\n",
    "\n",
    "GAGG\n",
    "TTTAGAGCCTTCAGAGG\n",
    "2\n",
    "\n",
    "Sample Output:\n",
    "\n",
    "4\n",
    "\n",
    "```python\n",
    "# Input:  Strings Pattern and Text, and an integer d\n",
    "# Output: The number of times Pattern appears in Text with at most d mismatches\n",
    "def ApproximatePatternCount(Pattern, Text, d):\n",
    "    count = 0\n",
    "    for i in range(len(Text)-len(Pattern)+1):\n",
    "        if HammingDistance(Text[i:i+len(Pattern)],Pattern) <= d :\n",
    "            count = count+1\n",
    "    return count\n",
    "```\n",
    "\n"
   ]
  },
  {
   "cell_type": "markdown",
   "metadata": {},
   "source": [
    "<!--NAVIGATION-->\n",
    "< [2.4 The Skew Diagram](2.4 The Skew Diagram.ipynb) | [Contents](Index.ipynb) | [2.6 A Final Attempt at Finding DnaA Boxes in E. coli](2.6 A Final Attempt at Finding DnaA Boxes in E. coli.ipynb)>"
   ]
  },
  {
   "cell_type": "code",
   "execution_count": null,
   "metadata": {
    "collapsed": true
   },
   "outputs": [],
   "source": []
  }
 ],
 "metadata": {
  "kernelspec": {
   "display_name": "Python 3",
   "language": "python",
   "name": "python3"
  },
  "language_info": {
   "codemirror_mode": {
    "name": "ipython",
    "version": 3
   },
   "file_extension": ".py",
   "mimetype": "text/x-python",
   "name": "python",
   "nbconvert_exporter": "python",
   "pygments_lexer": "ipython3",
   "version": "3.4.5"
  }
 },
 "nbformat": 4,
 "nbformat_minor": 0
}
