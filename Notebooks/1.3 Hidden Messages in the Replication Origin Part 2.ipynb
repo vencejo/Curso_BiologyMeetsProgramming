{
 "cells": [
  {
   "cell_type": "markdown",
   "metadata": {
    "collapsed": true
   },
   "source": [
    "<img align=\"left\" style=\"padding-right:10px;\" src=\"figures/cartel.jpg\">\n",
    "<!--COURSE_INFORMATION-->\n",
    "## This notebook contains a unit from the course [Biology Meets Programming](https://www.coursera.org/learn/bioinformatics/home/welcome) by University of California in Coursera \n",
    "\n",
    "\n",
    "### The content is available [on GitHub](https://github.com/vencejo/Curso_BiologyMeetsProgramming)."
   ]
  },
  {
   "cell_type": "markdown",
   "metadata": {},
   "source": [
    "<!--NAVIGATION-->\n",
    "< [1.2 Hidden Messages in the Replication Origin Part 1](1.2 Hidden Messages in the Replication Origin Part 1.ipynb) | [Contents](Index.ipynb) | [1.4 Some Hidden Messages are More Surprising than Others](1.4 Some Hidden Messages are More Surprising than Others.ipynb)  >"
   ]
  },
  {
   "cell_type": "markdown",
   "metadata": {},
   "source": [
    "### The Frequent Words Problem"
   ]
  },
  {
   "cell_type": "markdown",
   "metadata": {},
   "source": [
    "We say that Pattern is a ** most frequent k-mer ** in Text if it maximizes PatternCount(Pattern, Text) among all k-mers. \n",
    "\n",
    "You can verify that \"ACTAT\" is a most frequent 5-mer for Text = \"ACAACTATGCATACTATCGGGAACTATCCT\", and \"ATA\" is a most frequent 3-mer for Text = \"CGATATATCCATAG\".\n",
    "\n",
    "Exercise Break (1 point): Find the most frequent 2-mer of \"GATCCAGATCCCCATAC\". (You should solve this exercise by hand; how can it be done quickly?)"
   ]
  },
  {
   "cell_type": "markdown",
   "metadata": {},
   "source": [
    "STOP and Think: Can a string have multiple most frequent k-mers?\n",
    "\n",
    "\n",
    "\n",
    "We now have a rigorously defined computational problem for finding frequent words in the replication origin. We define a computational problem as a specification of input data in addition to a precise specification of output data that will solve the problem.\n",
    "\n",
    "    Frequent Words Problem:  ",
    "Find the most frequent k-mers in a string.\n",
    "     * Input: A string Text and an integer k.\n",
    "     * Output: All most frequent k-mers in Text.\n"
   ]
  },
  {
   "cell_type": "markdown",
   "metadata": {},
   "source": [
    "A straightforward algorithm for finding the most frequent words in a string Text computes how many times each k-mer substring of Text appears in Text, then selects the k-mers occurring the most. To implement this algorithm, called FrequentWords, we will need to generate an array (i.e., a one-row table) denoted Count, where Count[i] is the number of times that the i-th k-mer of Text appears in Text. That is, Count[i] stores PatternCount(Pattern, Text) for Pattern = Text[i:i+k] (figure below).\n",
    "\n",
    "<img align=\"left\" style=\"padding-right:10px;\" src=\"figures/fig3.png\">\n",
    "\n",
    "\n",
    "\n",
    "Figure: The array Count for Text = \"CGATATATCCATAG\" and k = 3. For example, Count[3] = Count[5] = 2 because \"TAT\" appears twice in Text at positions 3 and 5.\n",
    "\n",
    "\n",
    "\n",
    "Arrays can be represented in Python using a data structure called a dictionary (often abbreviated as dict). You can think of a dictionary as a set of keys (first row in the figure above), where each key refers to a value (second row in the figure above). Learn more about how to work with dictionaries in the following set of exercises.\n",
    "\n",
    " ** Python Practice: Complete the “Python Lists and Dictionaries” lesson (14 exercises) in Unit 5 on Codecademy. **\n",
    "\n",
    "Now that you know how to work with dictionaries, we can write a Python function that takes a string Text and an integer k as input and returns the Count dictionary for k-mers in Text. The code below uses the notation Count = {} to initialize a blank dictionary containing no items. It also uses PatternCount as a subroutine, or a function that is called within another function. Subroutines are vital to programming because they allow us to reuse code without needing to copy it multiple times.\n",
    "\n",
    "``` python\n",
    "def CountDict(Text, k):\n",
    "    Count = {}\n",
    "    for i in range(len(Text)-k+1):\n",
    "        Pattern = Text[i:i+k]\n",
    "        Count[i] = PatternCount(Pattern, Text)\n",
    "    return Count\n",
    "```\n",
    "\n",
    "Code Challenge (1 point): Re-type this function in the allotted space below. (Make sure that you understand each line!) Since CountDict uses PatternCount as a subroutine, you should copy  PatternCount below as well. Then add CountDict to Replication.py.\n",
    "\n",
    "\n",
    "\n",
    "To identify the most frequent k-mers in Text, we simply need to find the maximum value of the Count dictionary. Python has a built-in function called values() that returns a list containing the values of a dictionary. You have already learned about lists in the preceding Python Practice; we can therefore compute the maximum of all values in a given list using the following function. (This function uses the form of the for loop for ranging over the items in a list that we learned in the last Python Practice.)\n",
    "\n",
    "``` python\n",
    "def max(list):\n",
    "    m = list[0] \n",
    "    for item in list:\n",
    "        if item > m: \n",
    "            m = item\n",
    "    return m \n",
    "```\n",
    "\n",
    "As a result, we can find the maximum value in the dictionary Count by simply calling max(Count.values()). In fact, there is no reason to even write the function above, since Python provides max as a built-in function!\n",
    "\n",
    "\n",
    "\n",
    "Now that we know how to find the maximum value of Count, we just need to use a for loop to pass through Count and find each index i such that Count[i] is maximized. This index corresponds to a frequent k-mer Text[i:i+k] in Text. We can then add this k-mer to a growing list of strings called FrequentPatterns.\n",
    "\n",
    "** Python Practice: Complete exercises 10-14 of the “Loops” lesson in Unit 8 on Codecademy to learn how to apply a for loop to lists, strings, and dictionaries. **\n",
    "\n",
    "We can now generate the most frequent k-mers in Text with the following code. Note that this code uses a Python-specific form of the for loop ranging over the keys of the dictionary Count.\n",
    "\n",
    "``` python\n",
    "def FrequentWords(Text, k):\n",
    "    FrequentPatterns = []\n",
    "    Count = CountDict(Text, k)\n",
    "    m = max(Count.values())\n",
    "    for i in Count:\n",
    "        if Count[i] == m:\n",
    "            FrequentPatterns.append(Text[i:i+k])\n",
    "    return FrequentPatterns\n",
    "```\n",
    "\n",
    "Code Challenge (1 point): Re-type the FrequentWords function (and all required subroutines) in the allotted space below.\n",
    "\n",
    "Click here for this problem's test datasets.\n",
    "\n",
    "\n",
    "\n",
    "Exercise Break (1 point):  Now that we have implemented FrequentWords, print the result of calling FrequentWords on Text = \"GATCCAGATCCCCATAC\" and k = 2.\n",
    "\n",
    "Sample Input:\n",
    "\n",
    "ACGTTGCATGTCGCATGATGCATGAGAGCT\n",
    "4\n",
    "\n",
    "Sample Output:\n",
    "\n",
    "['GCAT', 'CATG', 'GCAT', 'CATG', 'GCAT', 'CATG']"
   ]
  },
  {
   "cell_type": "markdown",
   "metadata": {},
   "source": [
    "We have nearly solved the Frequent Words Problem, except for one tiny wrinkle. For the example Text = \"CGATATATCCATAG\", there is only one most frequent 3-mer (\"ATA\"). However, we will add \"ATA\" to FrequentPatterns three separate times, when i is equal to 2, 4, and 10 (why?). Therefore, we need to remove duplicates from FrequentPatterns by writing a function remove_duplicates(items) that takes a list items and returns a list containing all the objects from Items without duplicates. We leave this task to you as an exercise, which is covered in the following Python Practice.\n",
    "\n",
    " ** Python Practice: Complete exercise 14 in the “Practice Makes Perfect” lesson (Unit 8) on Codecademy. Then copy your remove_duplicates function into Replication.py. **\n",
    "\n",
    "\n",
    "\n",
    "When we put everything together, we have a function FrequentWords solving the Frequent Words Problem.\n",
    "\n",
    "```python\n",
    "def FrequentWords(Text, k):\n",
    "    FrequentPatterns = []\n",
    "    Count = CountDict(Text, k)\n",
    "    m = max(Count.values())\n",
    "    for i in Count:\n",
    "        if Count[i] == m:\n",
    "            FrequentPatterns.append(Text[i:i+k])\n",
    "    FrequentPatternsNoDuplicates = remove_duplicates(FrequentPatterns)\n",
    "    return FrequentPatternsNoDuplicates \n",
    "```\n",
    "\n",
    "Code Challenge (1 point): Re-type the FrequentWords function in the allotted space below. Then add FrequentWords to Replication.py.\n",
    "\n",
    "Click here for this problem's test datasets.\n",
    "\n",
    "Sample Input:\n",
    "\n",
    "ACGTTGCATGTCGCATGATGCATGAGAGCT\n",
    "4\n",
    "\n",
    "Sample Output:\n",
    "\n",
    "CATG GCAT"
   ]
  },
  {
   "cell_type": "code",
   "execution_count": null,
   "metadata": {
    "collapsed": true
   },
   "outputs": [],
   "source": []
  },
  {
   "cell_type": "markdown",
   "metadata": {},
   "source": [
    "Exercise Break (1 point): Apply your solution to the Frequent Words Problem if Text is the oriC of Vibrio cholerae (click [here](dnas/v_cholerae_oric.txt) to download) and k = 10. What are the most frequent words?\n",
    "\n",
    "``` python\n",
    "# Copy your updated FrequentWords function (along with all required subroutines) below this line\n",
    "def PatternCount(Pattern, Text):\n",
    "    count = 0\n",
    "    for i in range(len(Text)-len(Pattern)+1):\n",
    "        if Text[i:i+len(Pattern)] == Pattern:\n",
    "            count = count+1\n",
    "    return count\n",
    "\n",
    "def CountDict(Text, k):\n",
    "    Count = {}\n",
    "    for i in range(len(Text)-k+1):\n",
    "        Pattern = Text[i:i+k]\n",
    "        Count[i] = PatternCount(Pattern, Text)\n",
    "    return Count\n",
    "\n",
    "def remove_duplicates(lista):\n",
    "    listaUnicos = []\n",
    "    for elem in lista:\n",
    "        if elem not in listaUnicos:\n",
    "            listaUnicos.append(elem)\n",
    "    return listaUnicos\n",
    "    \n",
    "def FrequentWords(Text, k):\n",
    "    FrequentPatterns = []\n",
    "    Count = CountDict(Text, k)\n",
    "    m = max(Count.values())\n",
    "    for i in Count:\n",
    "        if Count[i] == m:\n",
    "            FrequentPatterns.append(Text[i:i+k])\n",
    "    FrequentPatternsNoDuplicates = remove_duplicates(FrequentPatterns)\n",
    "    return FrequentPatternsNoDuplicates\n",
    "\n",
    "\n",
    "# Now set Text equal to the Vibrio cholerae oriC and k equal to 10\n",
    "Text = \"\"\"ATCAATGATCAACGTAAGCTTCTAAGCATGATCAAGGTGCTCACACAGTTTATCCACAACCTGAGTGGATGACATCAAGATAGGTCGTTGTATCTCCTTCCTCTCGTACTCTCATGACCACGGAAAGATGATCAAGAGAGGATGATTTCTTGGCCATATCGCAATGAATACTTGTGACTTGTGCTTCCAATTGACATCTTCAGCGCCATATTGCGCTGGCCAAGGTGACGGAGCGGGATTACGAAAGCATGATCATGGCTGTTGTTCTGTTTATCTTGTTTTGACTGAGACTTGTTAGGATAGACGGTTTTTCATCACTGACTAGCCAAAGCCTTACTCTGCCTGACATCGACCGTAAATTGATAATGAATTTACATGCTTCCGCGACGATTTACCTCTTGATCATCGATCCGATTGAAGATCTTCAATTGTTAATTCTCTTGCCTCGACTCATAGCCATGATGAGCTCTTGATCATGTTTCCTTAACCCTCTATTTTTTACGGAAGAATGATCAAGCTGCTGCTCTTGATCATCGTTTC\"\"\"\n",
    "\n",
    "k = 10\n",
    "\n",
    "# Finally, print the result of calling FrequentWords on Text and k.\n",
    "\n",
    "print(FrequentWords(Text, k))\n",
    "```\n",
    "\n",
    "Passed test #2. Correct! The most frequent 10-mers in the Vibrio cholerae oriC are: CTCTTGATCA TCTTGATCAT"
   ]
  },
  {
   "cell_type": "code",
   "execution_count": null,
   "metadata": {
    "collapsed": true
   },
   "outputs": [],
   "source": []
  },
  {
   "cell_type": "markdown",
   "metadata": {},
   "source": [
    "### Frequent words in Vibrio cholerae \n",
    "\n",
    "The figure below reveals the most frequent k-mers in the ori region from Vibrio cholerae.\n",
    "\n",
    "<img align=\"left\" style=\"padding-right:10px;\" src=\"figures/fig4.png\">\n",
    "\n",
    "STOP and Think: Do any of the counts in the figure seem surprisingly large?\n",
    "\n",
    "Figure: The most frequent k-mers in the ori region of Vibrio cholerae for k ranging from 3 to 9, along with the number of times that each k-mer occurs. \n",
    "\n",
    "For example, the 9-mer **\"ATGATCAAG\"** appears three times in the ori region of Vibrio cholerae — is it surprising?\n",
    "\n",
    "atcaatgatcaacgtaagcttctaagc**ATGATCAAG**gtgctcacacagtttatccacaac\n",
    "ctgagtggatgacatcaagataggtcgttgtatctccttcctctcgtactctcatgacca\n",
    "cggaaag**ATGATCAAG**agaggatgatttcttggccatatcgcaatgaatacttgtgactt\n",
    "gtgcttccaattgacatcttcagcgccatattgcgctggccaaggtgacggagcgggatt\n",
    "acgaaagcatgatcatggctgttgttctgtttatcttgttttgactgagacttgttagga\n",
    "tagacggtttttcatcactgactagccaaagccttactctgcctgacatcgaccgtaaat\n",
    "tgataatgaatttacatgcttccgcgacgatttacctcttgatcatcgatccgattgaag\n",
    "atcttcaattgttaattctcttgcctcgactcatagccatgatgagctcttgatcatgtt\n",
    "tccttaaccctctattttttacggaaga**ATGATCAAG**ctgctgctcttgatcatcgtttc\n",
    "\n",
    "We highlight a most frequent 9-mer instead of using some other value of k because experiments have revealed that bacterial DnaA boxes are usually 9 nucleotides long. Furthermore, it is very unlikely that a 9-mer would appear three or more times in a randomly generated DNA string of length 500 due to random chance. In fact, there are four different 9-mers repeated three or more times in this region: \"ATGATCAAG\", \"CTTGATCAT\", \"TCTTGATCA\", and \"CTCTTGATC\".\n",
    "\n",
    "** The low likelihood of witnessing even one repeated 9-mer in the ori region of Vibrio cholerae leads us to the working hypothesis that one of these four 9-mers may represent a potential DnaA box that, when appearing multiple times in a short region, jump-starts replication. But which one? **"
   ]
  },
  {
   "cell_type": "markdown",
   "metadata": {},
   "source": [
    "<!--NAVIGATION-->\n",
    "< [1.2 Hidden Messages in the Replication Origin Part 1](1.2 Hidden Messages in the Replication Origin Part 1.ipynb) | [Contents](Index.ipynb) | [1.4 Some Hidden Messages are More Surprising than Others](1.4 Some Hidden Messages are More Surprising than Others.ipynb)  >"
   ]
  },
  {
   "cell_type": "code",
   "execution_count": null,
   "metadata": {
    "collapsed": true
   },
   "outputs": [],
   "source": []
  }
 ],
 "metadata": {
  "kernelspec": {
   "display_name": "Python 3",
   "language": "python",
   "name": "python3"
  },
  "language_info": {
   "codemirror_mode": {
    "name": "ipython",
    "version": 3
   },
   "file_extension": ".py",
   "mimetype": "text/x-python",
   "name": "python",
   "nbconvert_exporter": "python",
   "pygments_lexer": "ipython3",
   "version": "3.4.5"
  }
 },
 "nbformat": 4,
 "nbformat_minor": 0
}
