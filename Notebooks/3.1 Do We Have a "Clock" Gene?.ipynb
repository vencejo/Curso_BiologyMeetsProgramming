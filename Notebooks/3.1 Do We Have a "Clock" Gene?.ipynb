{
 "cells": [
  {
   "cell_type": "markdown",
   "metadata": {},
   "source": [
    "<img align=\"left\" style=\"padding-right:10px;\" src=\"figures/cartel.jpg\">\n",
    "<!--COURSE_INFORMATION-->\n",
    "## This notebook contains the index from the course [Biology Meets Programming](https://www.coursera.org/learn/bioinformatics/home/welcome) by University of California in Coursera \n",
    "\n",
    "\n",
    "### The content is available [on GitHub](https://github.com/vencejo/Curso_BiologyMeetsProgramming)."
   ]
  },
  {
   "cell_type": "markdown",
   "metadata": {},
   "source": [
    "<!--NAVIGATION-->\n",
    "< | [Contents](Index.ipynb) | [3.2 Motif Finding is More Difficult Than You Think](3.2 Motif Finding is More Difficult Than You Think.ipynb)>"
   ]
  },
  {
   "cell_type": "markdown",
   "metadata": {},
   "source": [
    "\n",
    "### The circadian clock\n",
    "\n",
    "The daily schedules of animals, plants, and even bacteria are controlled by an internal timekeeper called the circadian clock. Anyone who has experienced the misery of jet lag knows that this clock never stops ticking. Rats and research volunteers alike, when placed in a bunker, naturally maintain a roughly 24-hour cycle of activity and rest in total darkness. And, like any timepiece, the circadian clock can malfunction, resulting in a genetic disease known as delayed sleep-phase syndrome (DSPS).\n",
    "\n",
    "The circadian clock must have some basis on the molecular level, which presents many questions. How do individual cells in animals and plants (let alone bacteria) know what time it is? Is there a “clock gene”? Can we explain why heart attacks occur more often in the morning, while asthma attacks are more common at night? And can we identify genes that are responsible for “breaking” the circadian clock to cause DSPS?\n",
    "\n",
    "In the early 1970s, Ron Konopka and Seymour Benzer identified mutant flies with abnormal circadian patterns and traced the flies’ mutations to a single gene. Biologists needed two more decades to discover a similar clock gene in mammals, which was just the first piece of the puzzle. Today, many more circadian genes have been discovered; these genes, having names like timeless, clock, and cycle, orchestrate the behavior of hundreds of other genes and display a high degree of evolutionary conservation across species.\n",
    "\n",
    "We will first focus on plants, since maintaining the circadian clock in plants is a matter of life and death. Consider how many plant functions depend on when the sun rises and sets. Indeed, biologists estimate that over a thousand plant genes are circadian, including the genes related to photosynthesis, photo reception, and flowering. But what does it mean for a gene be circadian?\n"
   ]
  },
  {
   "cell_type": "markdown",
   "metadata": {},
   "source": [
    "### Gene expression\n",
    "\n",
    "The Central Dogma of Molecular Biology states that “DNA makes RNA makes protein.” The DNA corresponding to a gene is first transcribed into a strand of RNA composed of four ribonucleotides: adenine, cytosine, guanine, and uracil (which replaces thymine in DNA). Then, the RNA transcript is translated into the amino acid sequence of a protein, which performs some function in the cell.\n",
    "\n",
    "Much like DNA replication, the chemical machinery underlying transcription and translation is fascinating, but from a computational perspective, both processes are straightforward. Transcription simply replaces all occurrences of T in a DNA string with U. The resulting strand of RNA is translated into an amino acid sequence as follows. During translation, the RNA strand is partitioned into non-overlapping 3-mers called codons. Then, each codon is converted into one of 20 amino acids via the genetic code; the resulting sequence can be represented as an amino acid string over a 20-letter alphabet. As illustrated in the figure below, each of the 64 RNA codons encodes its own amino acid (some codons encode the same amino acid), with the exception of three stop codons that do not translate into amino acids and serve to halt translation (see DETOUR: Discovery of Codons and Split Genes). For example, the DNA string \"TATACGAAA\" transcribes into the RNA string \"UAUACGAAA\", which in turn translates into the amino acid string \"YTK\". \n",
    "\n",
    "The key point is that cells are able to transcribe different genes into RNA at different rates. This variance in the production of a gene’s transcripts, or gene expression, explains how a brain cell and a skin cell can have the same DNA but perform vastly different functions. Variation in gene expression through the day also accounts for how the cell can keep track of time.\n",
    "\n",
    "<img align=\"center\" style=\"padding-right:10px;\" src=\"figures/fig32.png\">\n"
   ]
  },
  {
   "cell_type": "markdown",
   "metadata": {},
   "source": [
    "\n",
    "### Regulatory proteins\n",
    "\n",
    "It turns out that every plant cell keeps track of day and night independently of other cells, and that just three plant genes, called LCY, CCA1, and TOC1, are the clock’s master timekeepers. Such genes, and the regulatory proteins that they encode, are often controlled by external factors (e.g., nutrient availability or sunlight) in order to allow organisms to adjust their gene expression.\n",
    "\n",
    "For example, regulatory proteins controlling the circadian clock in plants coordinate circadian activity as follows. TOC1 promotes the expression of LCY and CCA1, whereas LCY and CCA1 repress the expression of TOC1, resulting in a negative feedback loop. In the morning, sunlight activates the transcription of LCY and CCA1, triggering the repression of TOC1 transcription. As light diminishes, so does the production of LCY and CCA1, which in turn do not repress TOC1 any more. Transcription of TOC1 peaks at night and starts promoting the transcription of LCY and CCA1, which in turn repress the transcription of TOC1, and the cycle begins again.\n",
    "\n",
    "\n",
    "\n",
    "LCY, CCA1, and TOC1 are able to control the transcription of other genes because the regulatory proteins that they encode are ** transcription factors **, or ** master regulatory proteins ** that turn other genes on and off. A transcription factor regulates a gene by binding to a specific short DNA interval called a ** regulatory motif **, or ** transcription factor binding site **, in the gene’s ** upstream region **, a 600-1000 nucleotide-long region preceding the start of the gene. For example, CCA1 binds to \"AAAAAATCT\" in the upstream region of many genes regulated by CCA1.\n",
    "\n",
    "The life of a bioinformatician would be easy if regulatory motifs were completely conserved, but the reality is more complex, as ** regulatory motifs may vary at some positions **, e.g., CCA1 may instead bind to \"AA**G**AA**C**TCT\". But how can we locate these regulatory motifs without knowing what they look like in advance? We need to develop algorithms for motif finding, the problem of discovering a “hidden message” shared by a collection of strings.\n",
    "\n"
   ]
  },
  {
   "cell_type": "markdown",
   "metadata": {},
   "source": [
    "<!--NAVIGATION-->\n",
    "< | [Contents](Index.ipynb) | [3.2 Motif Finding is More Difficult Than You Think](3.2 Motif Finding is More Difficult Than You Think.ipynb)>"
   ]
  },
  {
   "cell_type": "code",
   "execution_count": null,
   "metadata": {
    "collapsed": true
   },
   "outputs": [],
   "source": []
  }
 ],
 "metadata": {
  "kernelspec": {
   "display_name": "Python 3",
   "language": "python",
   "name": "python3"
  },
  "language_info": {
   "codemirror_mode": {
    "name": "ipython",
    "version": 3
   },
   "file_extension": ".py",
   "mimetype": "text/x-python",
   "name": "python",
   "nbconvert_exporter": "python",
   "pygments_lexer": "ipython3",
   "version": "3.4.5"
  }
 },
 "nbformat": 4,
 "nbformat_minor": 0
}
