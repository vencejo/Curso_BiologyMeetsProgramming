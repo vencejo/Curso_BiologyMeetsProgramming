{
 "cells": [
  {
   "cell_type": "markdown",
   "metadata": {},
   "source": [
    "<img align=\"left\" style=\"padding-right:10px;\" src=\"figures/cartel.jpg\">\n",
    "<!--COURSE_INFORMATION-->\n",
    "## This notebook contains a unit from the course [Biology Meets Programming](https://www.coursera.org/learn/bioinformatics/home/welcome) by University of California in Coursera \n",
    "\n",
    "\n",
    "### The content is available [on GitHub](https://github.com/vencejo/Curso_BiologyMeetsProgramming)."
   ]
  },
  {
   "cell_type": "markdown",
   "metadata": {},
   "source": [
    "### [3. Which DNA Patterns Play The Role of Molecular Clocks? Part 1](3. Which DNA Patterns Play The Role of Molecular Clocks? Part 1.ipynb)\n",
    "- [3.1 Do We Have a \"Clock\" Gene?](3.1 Do We Have a \"Clock\" Gene%3F.ipynb)\n",
    "- [3.2 Motif Finding is More Difficult Than You Think](3.2 Motif Finding is More Difficult Than You Think.ipynb)\n",
    "- [3.3 Scoring Motifs](3.3 Scoring Motifs.ipynb)\n",
    "- [3.4 Greedy Motif Search](3.4 Greedy Motif Search.ipynb)\n",
    "- [3.5 Detour Discovery of Codons and Split Genes](3.5 Detour Discovery of Codons and Split Genes.ipynb)\n",
    "- [3.6 Detour DNA Arrays](3.6 Detour DNA Arrays.ipynb)\n",
    "- [3.7 Detour Motif Scoring Functions](3.7 Detour Motif Scoring Functions.ipynb)"
   ]
  },
  {
   "cell_type": "code",
   "execution_count": null,
   "metadata": {
    "collapsed": true
   },
   "outputs": [],
   "source": []
  }
 ],
 "metadata": {
  "kernelspec": {
   "display_name": "Python 3",
   "language": "python",
   "name": "python3"
  },
  "language_info": {
   "codemirror_mode": {
    "name": "ipython",
    "version": 3
   },
   "file_extension": ".py",
   "mimetype": "text/x-python",
   "name": "python",
   "nbconvert_exporter": "python",
   "pygments_lexer": "ipython3",
   "version": "3.4.5"
  }
 },
 "nbformat": 4,
 "nbformat_minor": 0
}
