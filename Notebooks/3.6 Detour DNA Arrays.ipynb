{
 "cells": [
  {
   "cell_type": "markdown",
   "metadata": {},
   "source": [
    "<img align=\"left\" style=\"padding-right:10px;\" src=\"figures/cartel.jpg\">\n",
    "<!--COURSE_INFORMATION-->\n",
    "## This notebook contains the index from the course [Biology Meets Programming](https://www.coursera.org/learn/bioinformatics/home/welcome) by University of California in Coursera \n",
    "\n",
    "\n",
    "### The content is available [on GitHub](https://github.com/vencejo/Curso_BiologyMeetsProgramming)."
   ]
  },
  {
   "cell_type": "markdown",
   "metadata": {},
   "source": [
    "<!--NAVIGATION-->\n",
    "< [3.5 Detour Discovery of Codons and Split Genes](3.5 Detour Discovery of Codons and Split Genes.ipynb)| [Contents](Index.ipynb) | [3.7 Detour Motif Scoring Functions](3.7 Detour Motif Scoring Functions.ipynb)>"
   ]
  },
  {
   "cell_type": "markdown",
   "metadata": {},
   "source": [
    "A DNA array is a collection of DNA molecules attached to a solid surface. Each spot on the array is assigned a unique DNA string called a probe that measures the expression level of a specific gene, known as a target. In most arrays, probes are synthesized and then attached to a glass or silicon chip (figure below).\n",
    "\n",
    "Fluorescently labeled targets then bind to their corresponding probe (e.g., when their sequences are complementary), generating a fluorescent signal. The strength of this signal depends upon the amount of target sample that binds to the probe at a given spot. Thus, the higher the expression level of a gene, the higher the intensity of its fluorescent signal on the array. Since an array may contain millions of probes, biologists can measure the expression of many genes in a single array experiment. The DNA array experiment that identified the evening element in Arabidopsis thaliana measured the expression of 8,000 genes. \n",
    "\n",
    "<img align=\"center\" style=\"padding-right:10px;\" src=\"figures/fig47.png\">"
   ]
  },
  {
   "cell_type": "markdown",
   "metadata": {},
   "source": [
    "<!--NAVIGATION-->\n",
    "< [3.5 Detour Discovery of Codons and Split Genes](3.5 Detour Discovery of Codons and Split Genes.ipynb)| [Contents](Index.ipynb) | [3.7 Detour Motif Scoring Functions](3.7 Detour Motif Scoring Functions.ipynb)>"
   ]
  },
  {
   "cell_type": "code",
   "execution_count": null,
   "metadata": {
    "collapsed": true
   },
   "outputs": [],
   "source": []
  }
 ],
 "metadata": {
  "kernelspec": {
   "display_name": "Python 3",
   "language": "python",
   "name": "python3"
  },
  "language_info": {
   "codemirror_mode": {
    "name": "ipython",
    "version": 3
   },
   "file_extension": ".py",
   "mimetype": "text/x-python",
   "name": "python",
   "nbconvert_exporter": "python",
   "pygments_lexer": "ipython3",
   "version": "3.4.5"
  }
 },
 "nbformat": 4,
 "nbformat_minor": 0
}
