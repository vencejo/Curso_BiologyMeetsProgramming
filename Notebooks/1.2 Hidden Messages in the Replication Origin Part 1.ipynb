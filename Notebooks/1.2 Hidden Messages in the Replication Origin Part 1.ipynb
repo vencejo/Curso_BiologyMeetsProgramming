{
 "cells": [
  {
   "cell_type": "markdown",
   "metadata": {
    "collapsed": true
   },
   "source": [
    "<img align=\"left\" style=\"padding-right:10px;\" src=\"figures/cartel.jpg\">\n",
    "<!--COURSE_INFORMATION-->\n",
    "## This notebook contains a unit from the course [Biology Meets Programming](https://www.coursera.org/learn/bioinformatics/home/welcome) by University of California in Coursera \n",
    "\n",
    "\n",
    "### The content is available [on GitHub](https://github.com/vencejo/Curso_BiologyMeetsProgramming)."
   ]
  },
  {
   "cell_type": "markdown",
   "metadata": {},
   "source": [
    "<!--NAVIGATION-->\n",
    "< [ 1.1 A Journey of a Thousand Miles...]( 1.1 A Journey of a Thousand Miles.ipynb) | [Contents](Index.ipynb) | [1.3 Hidden Messages in the Replication Origin Part 2](1.3 Hidden Messages in the Replication Origin Part 2.ipynb)  >"
   ]
  },
  {
   "cell_type": "markdown",
   "metadata": {},
   "source": [
    "### DnaA boxes "
   ]
  },
  {
   "cell_type": "markdown",
   "metadata": {},
   "source": [
    "In the rest of this chapter, we will focus on the relatively easy case of finding ori in bacterial genomes, most of which consist of a single circular chromosome. Research has shown that the region of the bacterial genome encoding ori is typically a few hundred nucleotides long. Our plan is to begin with a bacterium in which ori is known, and then determine what makes this genomic region special in order to design a computational approach for finding ori in other bacteria. Our example is Vibrio cholerae, the pathogenic bacterium that causes cholera; here is the nucleotide sequence appearing in the ori of Vibrio cholerae:\n",
    "\n",
    "atcaatgatcaacgtaagcttctaagcatgatcaaggtgctcacacagtttatccacaac ctgagtggatgacatcaagataggtcgttgtatctccttcctctcgtactctcatgacca cggaaagatgatcaagagaggatgatttcttggccatatcgcaatgaatacttgtgactt gtgcttccaattgacatcttcagcgccatattgcgctggccaaggtgacggagcgggatt acgaaagcatgatcatggctgttgttctgtttatcttgttttgactgagacttgttagga tagacggtttttcatcactgactagccaaagccttactctgcctgacatcgaccgtaaat tgataatgaatttacatgcttccgcgacgatttacctcttgatcatcgatccgattgaag atcttcaattgttaattctcttgcctcgactcatagccatgatgagctcttgatcatgtt tccttaaccctctattttttacggaagaatgatcaagctgctgctcttgatcatcgtttc"
   ]
  },
  {
   "cell_type": "markdown",
   "metadata": {},
   "source": [
    "Python Practice: A contiguous sequence of letters like the ori of Vibrio cholerae is represented by a type of variable called a string. To start working with strings in Python, complete the “Strings and Console Output” lesson (16 exercises) in Unit 2 on Codecademy. (If you reach the \"Date and Time\" lesson, you've gone too far.)"
   ]
  },
  {
   "cell_type": "markdown",
   "metadata": {},
   "source": [
    "Exercise Break (1 point): Use what you have learned to print the length of the Vibrio cholerae ori, which is found here. You can see more directions when you click \"Start Solving\"; you have as many attempts to solve the problem as you like.\n",
    "\n",
    "Note: This exercise was created using Python 3; the Codecademy exercises use Python 2. They are largely very similar, but to print to the console in Python 3, we use the notation\n",
    "\n",
    "print(x)\n",
    "\n",
    "instead of\n",
    "\n",
    "print x"
   ]
  },
  {
   "cell_type": "markdown",
   "metadata": {},
   "source": [
    "How does the bacterial cell know to begin replication exactly in this short region within the much larger Vibrio cholerae chromosome, which consists of over a million nucleotides? There must be some “hidden message” in the ori region ordering the cell to begin replication here. \n",
    "\n",
    "Indeed, we know that the initiation of replication is mediated by ** DnaA **, a protein that binds to a short segment within the ori known as a ** DnaA box **. You can think of the DnaA box as a message within the DNA sequence telling DnaA: “bind here!” The question is how to find this hidden message without knowing what it looks like in advance — can you find it? In other words, can you find something that stands out in ori? This discussion motivates the following problem.\n",
    "\n",
    "Hidden Message Problem:\n",
    "    Find a “hidden message” in the replication origin.\n",
    "* Input: A string Text.\n",
    "* Output: A hidden message in Text. \n",
    "\n",
    "STOP and Think: Does the Hidden Message Problem represent a clearly stated computational problem?"
   ]
  },
  {
   "cell_type": "markdown",
   "metadata": {},
   "source": [
    "### Hidden messages in “The Gold-Bug”"
   ]
  },
  {
   "cell_type": "markdown",
   "metadata": {},
   "source": [
    "Although the Hidden Message Problem poses a legitimate intuitive question, it again makes absolutely no sense to a computer scientist because the notion of a “hidden message” is not precisely defined. The ori region of Vibrio cholerae is currently just as puzzling as the parchment discovered by William Legrand in Edgar Allan Poe's story \"The Gold-Bug\". Written on the parchment was the following:\n",
    "\n",
    "53‡‡†305))6·;4826)4‡.)4‡);806·;48†8^60))85;161;:‡·8\n",
    "†83(88)5·†;46(;88·96·?;8)·‡(;485);5·†2:·‡(;4956·2(5\n",
    "·—4)8^8·;4069285);)6†8)4‡‡;1(‡9;48081;8:8‡1;48†85;4\n",
    ")485†528806·81(‡9;48;(88;4(‡?34;48)4‡;1‡(;:188;‡?; \n",
    "\n",
    "Upon seeing the parchment, the narrator remarks, \"Were all the jewels of Golconda awaiting me upon my solution of this enigma, I am quite sure that I should be unable to earn them.\" Legrand retorts, \"It may well be doubted whether human ingenuity can construct an enigma of the kind which human ingenuity may not, by proper application, resolve.\" He reasons that the three consecutive symbols ;48 appear with surprising frequency on the parchment.\n",
    "\n",
    "53‡‡†305))6·;4826)4‡.)4‡);806·;48†8^60))85;161;:‡·8\n",
    "†83(88)5·†;46(;88·96·?;8)·‡(;485);5·†2:·‡(;4956·2(5\n",
    "·—4)8^8·;4069285);)6†8)4‡‡;1(‡9;48081;8:8‡1;48†85;4\n",
    ")485†528806·81(‡9;48;(88;4(‡?34;48)4‡;1‡(;:188;‡?; \n",
    "\n",
    "Legrand had already deduced that the pirates spoke English; he therefore assumed that the high frequency of ;48 implied that it encodes the most frequent English word, THE. Substituting ; for T, 4 for H, and 8 for E, Legrand had a slightly easier text to decipher (shown below), which would eventually lead him to the buried treasure. Can you decode this message too?\n",
    "\n",
    "53‡‡†305))6·THE26)H‡.)H‡)TE06·THE†E^60))E5T161T:‡·E\n",
    "†E3(EE)5·†TH6(TEE·96·?TE)·‡(THE5)T5·†2:·‡(TH956·2(5\n",
    "·—H)E^E·TH0692E5)T)6†E)H‡‡T1(‡9THE0E1TE:E‡1THE†E5TH\n",
    ")HE5†52EE06·E1(‡9THET(EETH(‡?3HTHE)H‡T1‡(T:1EET‡?T\n",
    "\n",
    "Note: Don't spend too much time on this task; if you would like to see the answer, it is available at Wikipedia."
   ]
  },
  {
   "cell_type": "markdown",
   "metadata": {},
   "source": [
    "### Counting words"
   ]
  },
  {
   "cell_type": "markdown",
   "metadata": {},
   "source": [
    "Operating under the assumption that DNA is a language of its own, let’s borrow Legrand’s method and see if we can find any surprisingly frequent “words” within the ori of Vibrio cholerae. We have added reason to look for frequent words in the ori because for various biological processes, certain nucleotide strings appear surprisingly often in small regions of the genome. This is often because certain proteins can only bind to DNA if a specific string of nucleotides is present, and if there are more occurrences of the string, then it is more likely that binding will successfully occur. (It is also less likely that a mutation will disrupt the binding process.)\n",
    "\n",
    "For example, \"ACTAT\" is a surprisingly frequent substring of\n",
    "\n",
    "\"ACAACTATGCATACTATCGGGAACTATCCT\".\n",
    "\n",
    "We use the term k-mer for a string of length k and define PatternCount(Pattern, Text) as the number of times that a k-mer Pattern appears as a substring of Text. Following the above example,\n",
    "\n",
    "PatternCount(\"ACTAT\", \"ACAACTATGCATACTATCGGGAACTATCCT\") = 3.\n",
    "\n",
    "Note that PatternCount(\"ATA\", \"CGATATATCCATAG\") is equal to 3 (not 2) since we should account for overlapping occurrences of Pattern in Text.\n",
    "<p>Before looking for frequent words, we would like to compute <span class=\"wysiwyg-font-tt\">PatternCount(Pattern, Text)</span>. Because this is your first biological algorithm, we will walk you through the details. To do so, we first create an integer variable <span class=\"wysiwyg-font-tt\">count</span> that we set equal to zero:</p> <p></p><pre><code class=\"python\">count = 0</code></pre><p></p> <p>As illustrated in the figure below, our plan is to “slide a window” down <span class=\"wysiwyg-font-tt\">Text</span>, checking whether each k-mer substring of <span class=\"wysiwyg-font-tt\">Text</span> matches <span class=\"wysiwyg-font-tt\">Pattern</span>. If it does, then we add 1 to <span class=\"wysiwyg-font-tt\">count</span> (adding 1 to a variable is called <b>incrementing</b> it). The value of <span class=\"wysiwyg-font-tt\">count</span> after we have slid the window to the end of <span class=\"wysiwyg-font-tt\">Text</span> will be equal to <span class=\"wysiwyg-font-tt\">PatternCount(Pattern, Text)</span>. The question, then, is how to convert the idea in the figure into a working program. Doing so will require a little more knowledge of Python.</p> <p><span class=\"image-wrapper\"><img title=\"Image: http://bioinformaticsalgorithms.com/images/Replication/patterncount.png\" alt=\"\" width=\"600\" src=\"http://bioinformaticsalgorithms.com/images/Replication/patterncount.png\"></span></p> <p><b>Figure:</b> Sliding a window to compute <span class=\"wysiwyg-font-tt\">PatternCount(Pattern, Text)</span> = 3 for <span class=\"wysiwyg-font-tt\">Pattern</span> = <span class=\"wysiwyg-font-tt\">\"ATA\"</span> and <span class=\"wysiwyg-font-tt\">Text</span> = <span class=\"wysiwyg-font-tt\">\"CGATATATCCATAG\"</span>. We initialize <span class=\"wysiwyg-font-tt\">count</span> to zero and then increment it each time that <span class=\"wysiwyg-font-tt\">Pattern</span> appears in <span class=\"wysiwyg-font-tt\">Text</span> (shown in green). </p>\n"
   ]
  },
  {
   "cell_type": "markdown",
   "metadata": {},
   "source": [
    "** Python Practice: Complete the “Conditionals & Control Flow” lesson (15 exercises) in Unit 3 on Codecademy. If you reach the \"Pyg Latin\" lesson, you have gone too far. **"
   ]
  },
  {
   "cell_type": "markdown",
   "metadata": {},
   "source": [
    "\n",
    "\n",
    "Before thinking about sliding the window down Text, let’s solve the simpler problem of determining whether Pattern matches a k-mer of Text in a fixed window. In Python, the k-mer beginning at position i of Text is denoted Text[i:i+k]. For example, if Text = \"GACCATACTG\", then Text[4:7] = \"ATA\". Python uses 0-based indexing, in which the first symbol of the string occurs at position 0 instead of 1; as a result, Text ends at position len(Text)-1, where len(Text) is the number of symbols in Text.\n",
    "\n",
    "We can now use an if statement, shown below, to determine whether Pattern matches Text[i:i+k]; if it does, then we increment count.\n",
    "\n",
    "    if Text[i:i+len(Pattern)] == Pattern:\n",
    "        count = count+1\n",
    "\n",
    "In the above Python code, make sure to note the difference between the equals symbol (=), in which we assign a value to a variable, and the double equals symbol (==), in which we test the equality of two variables.\n",
    "<p><b><span class=\"wysiwyg-color-blue\">Python Practice:</span></b><span class=\"wysiwyg-color-blue\"> </span>To implement sliding a text window, we willl need a structure called a <b>for</b> loop. Learn about it in <a href=\"https://www.codecademy.com/en/courses/python-beginner-en-cxMGf/1/1?curriculum_id=4f89dab3d788890003000096\">exercise 9</a> of the “Loops” lesson in Unit 8 on Codecademy.</p>\n",
    "309 46\n"
   ]
  },
  {
   "cell_type": "markdown",
   "metadata": {},
   "source": [
    "\n",
    "\n",
    "In the window-sliding figure, reproduced below, we slide a 3-mer Pattern along a string Text of length 14. We start sliding the 3-nucleotide window at position 0 and stop sliding at position 11.\n",
    "\n",
    "Exercise Break (1 point): At what position would we stop sliding a 10-nucleotide window along a string of length 1000?\n",
    "\n",
    "<img align=\"left\" style=\"padding-right:10px;\" src=\"figures/fig2.png\">"
   ]
  },
  {
   "cell_type": "markdown",
   "metadata": {},
   "source": [
    "\n",
    "\n",
    "We start sliding the window at position 0 of Text, but where should we stop? In general, the final k-mer of a string of length n begins at position n-k; for example, the final 3-mer of \"GACCATACTG\", which has length 10, begins at position 10 - 3 = 7. This observation implies that the window should slide between position 0 and position len(Text)-len(Pattern). We now have the desired for loop, shown at bottom. Note that in Python, the statement\n",
    "\n",
    "for i in range(n):\n",
    "\n",
    "iterates over all values of i between 0 and n-1. Thus, in the code below, i ranges up to len(Text)-len(Pattern)+1 in order to include position len(Text)-len(Pattern).\n",
    "\n",
    "      count = 0\n",
    "      for i in range(len(Text)-len(Pattern)+1):\n",
    "        if Text[i:i+len(Pattern)] == Pattern:\n",
    "            count = count+1 \n",
    "\n"
   ]
  },
  {
   "cell_type": "markdown",
   "metadata": {},
   "source": [
    "To put everything together, we will put all this code into a function, called PatternCount (see below). We will see soon that this function will help us return to finding frequent words in the replication origin.\n",
    "\n",
    "Roughly stated, a function takes an input and returns an output. Placing code into a function is economical because we can later call this function by name any time we want to find the number of times one string occurs as a substring within another, instead of having to repeat all of the lines of code contained within the function. The keyword def at the beginning of a function signals that we are “defining” a function.\n",
    "\n",
    "    def PatternCount(Text, Pattern):\n",
    "        count = 0\n",
    "        for i in range(len(Text)-len(Pattern)+1):\n",
    "            if Text[i:i+len(Pattern)] == Pattern:\n",
    "                count = count+1\n",
    "        return count "
   ]
  },
  {
   "cell_type": "markdown",
   "metadata": {},
   "source": [
    "Python Practice: Learn the basics of functions in the first section (exercises 1-6) of the “Functions” lesson in Unit 4 on Codecademy."
   ]
  },
  {
   "cell_type": "markdown",
   "metadata": {},
   "source": [
    "\n",
    "\n",
    "#### Code Challenge (1 point): Implement PatternCount (reproduced below).\n",
    "\n",
    "PatternCount is just one of many functions that we will encounter in this book. Sometimes, we will ask you to implement these functions in \"Code Challenges\". We have already done the first exercise for you (i.e., all you need to do is copy the function to the box below). This step is designed to help get you used to the environment.\n",
    "\n",
    "```python\n",
    "    def PatternCount(Pattern, Text):\n",
    "        count = 0\n",
    "        for i in range(len(Text)-len(Pattern)+1):\n",
    "            if Text[i:i+len(Pattern)] == Pattern:\n",
    "                count = count+1\n",
    "        return count \n",
    "```\n",
    "\n",
    "﻿So to get started, click the \"Click to Start Solving\" button below. Then, copy the PatternCount code provided into the designated space in the window below and click \"Submit\".  As with Exercise Breaks, don't worry if you don't solve the problem correctly on the first try; you can take as many attempts as you like. Later in the chapter, we will take off the training wheels and let you start writing your own functions.\n",
    "\n",
    "These Code Challenges work by testing your code on a sequence of test datasets.  For each Code Challenge, we will give you these test datasets so that, if your code fails, you can see which test datasets it is failing on.  Click here for these datasets for this step.\n",
    "\n",
    "Note (Python sticklers only): our ways of naming variables don't match the PEP8 format for Python. This is for consistency with the Bioinformatics Specialization to which this course runs parallel, where we use a different convention for naming variables and functions that is based on pseudocode, a way of describing algorithms that is not dependent on any given language. We encourage you to use PEP8 in your coding projects :)\n",
    "\n",
    "Sample Input:\n",
    "\n",
    "GCGCG\n",
    "GCG\n",
    "\n",
    "Sample Output:\n",
    "\n",
    "2\n",
    "\n"
   ]
  },
  {
   "cell_type": "markdown",
   "metadata": {},
   "source": [
    "Exercise Break (1 point): Copy over your PatternCount function from the previous step.  Then print  the number of times that the string Pattern = \"TGATCA\" occurs in the string Text corresponding to the Vibrio cholerae ori, which is found [here](dnas/v_cholerae_oric.txt).\n",
    "\n",
    "Note:  You will need to reuse PatternCount (and other functions) throughout this chapter. To store these functions, first download a text editor (such as Sublime or Atom). Then, open your text editor and copy PatternCount into a file.  When you save the file as \"Replication.py\", the text editor will detect that your code is written in Python and color it accordingly."
   ]
  },
  {
   "cell_type": "code",
   "execution_count": 1,
   "metadata": {
    "collapsed": false
   },
   "outputs": [
    {
     "name": "stdout",
     "output_type": "stream",
     "text": [
      "8\n"
     ]
    }
   ],
   "source": [
    "# Copy your PatternCount function from the previous step below this line\n",
    "def PatternCount(Pattern, Text):\n",
    "    count = 0\n",
    "    for i in range(len(Text)-len(Pattern)+1):\n",
    "        if Text[i:i+len(Pattern)] == Pattern:\n",
    "            count = count+1\n",
    "    return count \n",
    "\n",
    "# Now, set Text equal to the ori of Vibrio cholerae and Pattern equal to \"TGATCA\"\n",
    "ori = \"\"\"ATCAATGATCAACGTAAGCTTCTAAGCATGATCAAGGTGCTCACACAGTTTATCCACAACCTGAGTGGATGACATCAAGATAGGTCGTTGTATCTCCTTCCTCTCGTACTCTCATGACCACGGAAAGATGATCAAGAGAGGATGATTTCTTGGCCATATCGCAATGAATACTTGTGACTTGTGCTTCCAATTGACATCTTCAGCGCCATATTGCGCTGGCCAAGGTGACGGAGCGGGATTACGAAAGCATGATCATGGCTGTTGTTCTGTTTATCTTGTTTTGACTGAGACTTGTTAGGATAGACGGTTTTTCATCACTGACTAGCCAAAGCCTTACTCTGCCTGACATCGACCGTAAATTGATAATGAATTTACATGCTTCCGCGACGATTTACCTCTTGATCATCGATCCGATTGAAGATCTTCAATTGTTAATTCTCTTGCCTCGACTCATAGCCATGATGAGCTCTTGATCATGTTTCCTTAACCCTCTATTTTTTACGGAAGAATGATCAAGCTGCTGCTCTTGATCATCGTTTC\"\"\"\n",
    "\n",
    "pattern = \"TGATCA\"\n",
    "\n",
    "# Finally, print the result of calling PatternCount on Text and Pattern.\n",
    "# Don't forget to use the notation print() with parentheses included!\n",
    "\n",
    "print(PatternCount(pattern, ori))"
   ]
  },
  {
   "cell_type": "markdown",
   "metadata": {},
   "source": [
    "<!--NAVIGATION-->\n",
    "< [1.2 Hidden Messages in the Replication Origin Part 1](1.2 Hidden Messages in the Replication Origin Part 1.ipynb) | [Contents](Index.ipynb) | [1.3 Hidden Messages in the Replication Origin Part 2](1.3 Hidden Messages in the Replication Origin Part 2.ipynb)  >"
   ]
  }
 ],
 "metadata": {
  "kernelspec": {
   "display_name": "Python 3",
   "language": "python",
   "name": "python3"
  },
  "language_info": {
   "codemirror_mode": {
    "name": "ipython",
    "version": 3
   },
   "file_extension": ".py",
   "mimetype": "text/x-python",
   "name": "python",
   "nbconvert_exporter": "python",
   "pygments_lexer": "ipython3",
   "version": "3.4.5"
  }
 },
 "nbformat": 4,
 "nbformat_minor": 0
}
