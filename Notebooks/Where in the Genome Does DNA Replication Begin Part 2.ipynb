{
 "cells": [
  {
   "cell_type": "markdown",
   "metadata": {},
   "source": [
    "### [2. Where in the Genome Does DNA Replication Begin Part 2](Where in the Genome Does DNA Replication Begin Part 2.ipynb)\n",
    "- [2.1 The Simplest Way to Replicate DNA...](2.1 The Simplest Way to Replicate DNA.ipynb)\n",
    "- [2.2 Asymmetry of Replication](2.2 Asymmetry of Replication.ipynb)\n",
    "- [2.3 Peculiar Statistics of the Forward and Reverse Half-Strands](2.3 Peculiar Statistics of the Forward and Reverse Half-Strands.ipynb)\n",
    "- [2.4 The Skew Diagram](2.4 The Skew Diagram.ipynb)\n",
    "- [2.5 Some Hidden Messages Are More Elusive than Others](2.5 Some Hidden Messages Are More Elusive than Others.ipynb)\n",
    "- [2.6 A Final Attempt at Finding DnaA Boxes in E. coli](2.6 A Final Attempt at Finding DnaA Boxes in E. coli.ipynb)\n",
    "- [2.7 Detour: Big-O Notation](2.7 Detour Big-O Notation.ipynb)"
   ]
  },
  {
   "cell_type": "code",
   "execution_count": null,
   "metadata": {
    "collapsed": true
   },
   "outputs": [],
   "source": []
  }
 ],
 "metadata": {
  "kernelspec": {
   "display_name": "Python 3",
   "language": "python",
   "name": "python3"
  },
  "language_info": {
   "codemirror_mode": {
    "name": "ipython",
    "version": 3
   },
   "file_extension": ".py",
   "mimetype": "text/x-python",
   "name": "python",
   "nbconvert_exporter": "python",
   "pygments_lexer": "ipython3",
   "version": "3.4.5"
  }
 },
 "nbformat": 4,
 "nbformat_minor": 0
}
