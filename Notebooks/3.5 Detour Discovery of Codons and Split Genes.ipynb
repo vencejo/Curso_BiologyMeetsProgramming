{
 "cells": [
  {
   "cell_type": "markdown",
   "metadata": {},
   "source": [
    "<img align=\"left\" style=\"padding-right:10px;\" src=\"figures/cartel.jpg\">\n",
    "<!--COURSE_INFORMATION-->\n",
    "## This notebook contains the index from the course [Biology Meets Programming](https://www.coursera.org/learn/bioinformatics/home/welcome) by University of California in Coursera \n",
    "\n",
    "\n",
    "### The content is available [on GitHub](https://github.com/vencejo/Curso_BiologyMeetsProgramming)."
   ]
  },
  {
   "cell_type": "markdown",
   "metadata": {},
   "source": [
    "<!--NAVIGATION-->\n",
    "< [3.4 Greedy Motif Search](3.4 Greedy Motif Search.ipynb) | [3.6 Detour DNA Arrays](3.6 Detour DNA Arrays.ipynb)>"
   ]
  },
  {
   "cell_type": "markdown",
   "metadata": {},
   "source": [
    "<img align=\"center\" style=\"padding-right:10px;\" src=\"figures/fig45.png\">"
   ]
  },
  {
   "cell_type": "markdown",
   "metadata": {},
   "source": [
    "In 1964, Charles Yanofsky demonstrated that a gene and the protein that it produces are collinear, meaning that the first codon codes for the first amino acid in the protein, the second codon codes for the second amino acid, etc. For the next thirteen years, biologists believed that a protein was encoded by a long string of contiguous nucleotide triplets. However, the independent discovery of split genes in 1977 by Phillip Sharp and Richard Roberts proved otherwise and necessitated the computational problem of predicting the locations of genes using only the genomic sequence.\n",
    "\n",
    "Sharp hybridized RNA encoding an adenovirus protein called hexon against a single-strand of adenovirus DNA. If the hexon gene were contiguous, then he expected to see a one-to-one hybridization of RNA bases with DNA bases.\n",
    "\n",
    "Yet to Sharp’s surprise, when he viewed the RNA-DNA hybridization under an electron microscope, he saw three loop structures, rather than the continuous duplex segment suggested by the contiguous gene model (figure below). This observation implied that the hexon mRNA must be built from four non-contiguous fragments of the adenovirus genome. These four segments, called exons, are separated by three fragments (the loops in the figure below) called introns, to form a split gene. Split genes are analogous to a magazine article printed on pages 12, 17, 40, and 95, with many pages of advertising appearing in-between.\n",
    "\n",
    "<img align=\"center\" style=\"padding-right:10px;\" src=\"figures/fig46.png\">\n",
    "\n",
    "\n",
    "\n",
    "The discovery of split genes caused an interesting quandary: What happens to the introns? In other words, the RNA that is transcribed from a split gene (called precursor mRNA or pre-mRNA) should be longer than the RNA that is used as a template for protein synthesis (called messenger RNA or mRNA). Some biological process must remove the introns in pre-mRNA and concatenate the exons into a single mRNA string. This process of converting pre-mRNA into mRNA is known as splicing, and it is carried out by a molecular machine called the spliceosome.\n",
    "\n",
    "The discovery of split genes led to many new avenues of research. Biologists still debate what purpose introns serve; some introns are viewed as “junk DNA”, while others contain important regulatory elements. Furthermore, the partition of a gene into exons often varies from species to species. For example, a gene in the chicken genome may have a different number of exons than the related gene in the human genome.\n"
   ]
  },
  {
   "cell_type": "markdown",
   "metadata": {},
   "source": [
    "<!--NAVIGATION-->\n",
    "< [3.4 Greedy Motif Search](3.4 Greedy Motif Search.ipynb) | [3.6 Detour DNA Arrays](3.6 Detour DNA Arrays.ipynb)>"
   ]
  },
  {
   "cell_type": "code",
   "execution_count": null,
   "metadata": {
    "collapsed": true
   },
   "outputs": [],
   "source": []
  }
 ],
 "metadata": {
  "kernelspec": {
   "display_name": "Python 3",
   "language": "python",
   "name": "python3"
  },
  "language_info": {
   "codemirror_mode": {
    "name": "ipython",
    "version": 3
   },
   "file_extension": ".py",
   "mimetype": "text/x-python",
   "name": "python",
   "nbconvert_exporter": "python",
   "pygments_lexer": "ipython3",
   "version": "3.4.5"
  }
 },
 "nbformat": 4,
 "nbformat_minor": 0
}
