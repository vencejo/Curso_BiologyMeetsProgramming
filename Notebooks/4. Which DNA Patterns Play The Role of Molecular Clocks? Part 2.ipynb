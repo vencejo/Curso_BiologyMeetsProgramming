{
 "cells": [
  {
   "cell_type": "markdown",
   "metadata": {},
   "source": [
    "<img align=\"left\" style=\"padding-right:10px;\" src=\"figures/cartel.jpg\">\n",
    "<!--COURSE_INFORMATION-->\n",
    "## This notebook contains the index from the course [Biology Meets Programming](https://www.coursera.org/learn/bioinformatics/home/welcome) by University of California in Coursera \n",
    "\n",
    "\n",
    "### The content is available [on GitHub](https://github.com/vencejo/Curso_BiologyMeetsProgramming)."
   ]
  },
  {
   "cell_type": "markdown",
   "metadata": {},
   "source": [
    "### [4. Which DNA Patterns Play The Role of Molecular Clocks? Part 2](4. Which DNA Patterns Play The Role of Molecular Clocks%3F Part 2.ipynb)\n",
    "- [4.1 Motif Finding Meets Oliver Cromwell](4.1 Motif Finding Meets Oliver Cromwell.ipynb)\n",
    "- [4.2 Randomized Motif Search](4.2 Randomized Motif Search.ipynb)\n",
    "- [4.3 How Can a Randomized Algorithm Perform So Well? ](4.3 How Can a Randomized Algorithm Perform So Well%3F.ipynb)\n",
    "- [4.4 Gibbs Sampling ](4.4 Gibbs Sampling .ipynb)\n",
    "- [4.5 Detour Buffon's Needle ](4.5 Detour Buffon's Needle.ipynb)\n",
    "- [4.6 Detour Complications in Motif Finding ](4.6 Detour Complications in Motif Finding.ipynb)"
   ]
  },
  {
   "cell_type": "code",
   "execution_count": null,
   "metadata": {
    "collapsed": true
   },
   "outputs": [],
   "source": []
  }
 ],
 "metadata": {
  "kernelspec": {
   "display_name": "Python 3",
   "language": "python",
   "name": "python3"
  },
  "language_info": {
   "codemirror_mode": {
    "name": "ipython",
    "version": 3
   },
   "file_extension": ".py",
   "mimetype": "text/x-python",
   "name": "python",
   "nbconvert_exporter": "python",
   "pygments_lexer": "ipython3",
   "version": "3.4.5"
  }
 },
 "nbformat": 4,
 "nbformat_minor": 0
}
