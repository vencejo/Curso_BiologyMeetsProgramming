{
 "cells": [
  {
   "cell_type": "markdown",
   "metadata": {
    "collapsed": true
   },
   "source": [
    "<img align=\"left\" style=\"padding-right:10px;\" src=\"figures/cartel.jpg\">\n",
    "<!--COURSE_INFORMATION-->\n",
    "## This notebook contains a unit from the course [Biology Meets Programming](https://www.coursera.org/learn/bioinformatics/home/welcome) by University of California in Coursera \n",
    "\n",
    "\n",
    "### The content is available [on GitHub](https://github.com/vencejo/Curso_BiologyMeetsProgramming)."
   ]
  },
  {
   "cell_type": "markdown",
   "metadata": {},
   "source": [
    "Recall that nucleotides A and T are complements of each other, as are C and G. Having one strand of DNA and a supply of “free floating” nucleotides as shown in the figure below, we can imagine the synthesis of a complementary strand on a template strand. This model of replication was confirmed by Meselson and Stahl in 1958 (see [DETOUR:The Most Beautiful Experiment in Biology](1.6 Detour The Most Beautiful Experiment in Biology.ipynb)). The figure below shows a template strand \"AGTCGCATAGT\" and its complementary strand \"ACTATGCGACT\".\n",
    "\n",
    "At this point, you may think that we have made a mistake, since the complementary strand in the figure below reads out \"TCAGCGTATCA\" from left to right rather than \"ACTATGCGACT\". A and T are complements of each other, as are C and G. The beginning and end of a DNA strand are denoted 5’ (pronounced “five prime”) and 3’ (pronounced “three prime”), respectively. Each DNA strand is read in the 5' → 3' direction, and the complementary strand runs in the opposite direction to the template strand. See  [DETOUR:Directionality of DNA Strands](1.7 Detour Directionality of DNA Strands.ipynb) to learn why biologists use 5’ and 3’ to refer to the beginning and end of a strand of DNA.\n",
    "\n",
    "<img align=\"left\" style=\"padding-right:10px;\" src=\"figures/fig5.png\">"
   ]
  },
  {
   "cell_type": "markdown",
   "metadata": {},
   "source": [
    "\n",
    "\n",
    "The reverse complement of a DNA string Pattern is the string formed by taking the complementary nucleotide of each nucleotide in Pattern, then reversing the resulting string. For example, the reverse complement of \"AGTCGCATAGT\" is \"ACTATGCGACT\". This leads us to the following computational problem.\n",
    "\n",
    "Reverse Complement Problem:  ",
    "Find the reverse complement of a DNA string.\n",
    "     * Input: A DNA string Pattern.\n",
    "     * Output: The reverse complement of Pattern.\n"
   ]
  },
  {
   "cell_type": "markdown",
   "metadata": {},
   "source": [
    "Python Practice: Complete exercise 7 in the “Practice Makes Perfect” lesson (Unit 8) on Codecademy."
   ]
  },
  {
   "cell_type": "markdown",
   "metadata": {},
   "source": [
    "\n",
    "\n",
    "Code Challenge (2 points): Write a function ReverseComplement to solve the Reverse Complement Problem, which is reproduced below. (Hint: use the function reverse that you wrote on the last step as a subroutine.) Then add ReverseComplement (and any needed subroutines) to Replication.py.\n",
    "\n",
    "Reverse Complement Problem:  ",
    "Find the reverse complement of a DNA string.\n",
    "     * Input: A DNA string Pattern.\n",
    "     * Output: The reverse complement of Pattern.\n",
    "\n",
    "Click here for this problem's test datasets.\n",
    "\n",
    "Sample Input:\n",
    "\n",
    "AAAACCCGGT\n",
    "\n",
    "Sample Output:\n",
    "\n",
    "ACCGGGTTTT\n",
    "\n",
    "``` python\n",
    "# Input:  A DNA string Pattern\n",
    "# Output: The reverse complement of Pattern\n",
    "def ReverseComplement(Pattern):\n",
    "    revComp = '' # output variable\n",
    "    # your code here\n",
    "    rev = reverse(Pattern)\n",
    "    for nucleotide in rev:\n",
    "        revComp = revComp + complement(nucleotide)\n",
    "        \n",
    "    return revComp\n",
    "\n",
    "\n",
    "# Copy your reverse function from the previous step here.\n",
    "def reverse(text):\n",
    "    reverse_text_list = []\n",
    "    for i in range(len(text)):\n",
    "        reverse_text_list.append(text[len(text)-1-i])\n",
    "    return \"\".join(reverse_text_list)\n",
    "        \n",
    "\n",
    "# HINT:   Filling in the following function is optional, but it may come in handy when solving ReverseComplement\n",
    "# Input:  A character Nucleotide\n",
    "# Output: The complement of Nucleotide\n",
    "def complement(Nucleotide):\n",
    "    comp = '' # output variable\n",
    "    # your code here\n",
    "    if Nucleotide == \"A\":\n",
    "        comp = \"T\"\n",
    "    elif Nucleotide == \"T\":\n",
    "        comp = \"A\"\n",
    "    elif Nucleotide == \"G\":\n",
    "        comp = \"C\"\n",
    "    elif Nucleotide == \"C\":\n",
    "        comp = \"G\"\n",
    "    else:\n",
    "        comp = Nucleotide\n",
    "        \n",
    "    return comp\n",
    "```\n",
    "\n",
    "\n",
    "\n"
   ]
  },
  {
   "cell_type": "markdown",
   "metadata": {},
   "source": [
    "** STOP and Think: ** Look again at the four most frequent 9-mers in the ori region of Vibrio cholerae. Now do you notice anything surprising?\n",
    "\n",
    "\"ATGATCAAG\",   \"CTTGATCAT\",   \"TCTTGATCA\",   \"CTCTTGATC\"\n"
   ]
  },
  {
   "cell_type": "markdown",
   "metadata": {},
   "source": [
    "Interestingly, among the four most frequent 9-mers in the ori region of Vibrio cholerae, \"ATGATCAAG\" and \"CTTGATCAT\" are reverse complements of each other, resulting in the following six occurrences of these strings.\n",
    "\n",
    "<img align=\"center\" style=\"padding-right:10px;\" src=\"figures/fig6.png\">\n",
    "\n",
    "\n",
    "Finding a 9-mer that appears six or more times (either as itself or as its reverse complement) in a DNA string of length 500 is far more surprising than finding a 9-mer that appears three or more times alone. This statistical evidence leads us to the working hypothesis that \"ATGATCAAG\" and its reverse complement \"CTTGATCAT\" indeed represent DnaA boxes in Vibrio cholerae. Our computational conclusion makes sense biologically because the DnaA protein that binds to DnaA boxes and initiates replication does not care which of the two strands it binds to. For our purposes, both \"ATGATCAAG\" and \"CTTGATCAT\" represent DnaA boxes."
   ]
  },
  {
   "cell_type": "markdown",
   "metadata": {},
   "source": [
    "However, before concluding that we have found the DnaA box of Vibrio cholerae, the careful bioinformatician should check if there are other short regions in the Vibrio cholerae genome with multiple occurrences of \"ATGATCAAG\" (or \"CTTGATCAT\"). After all, maybe these strings occur as repeats throughout the entire Vibrio cholerae genome, rather than just in the ori region. This discussion implies the following computational problem.\n",
    "\n",
    "Pattern Matching Problem: ",
    " Find all occurrences of a pattern in a string.\n",
    "     * Input: Strings Pattern and Genome.\n",
    "     * Output: All starting positions in Genome where Pattern appears as a substring.\n",
    "\n",
    "Code Challenge (2 points): Write a function PatternMatching that solves the Pattern Matching Problem. (Hint: how can you solve this problem by modifying PatternCount?) Then add PatternMatching to Replication.py.\n",
    "\n",
    "Click here for this problem's test datasets.\n",
    "\n",
    "Sample Input:\n",
    "\n",
    "ATAT\n",
    "GATATATGCATATACTT\n",
    "\n",
    "Sample Output:\n",
    "\n",
    "1 3 9\n",
    "\n",
    "``` python\n",
    "\n",
    "# Input:  Two strings, Pattern and Genome\n",
    "# Output: A list containing all starting positions where Pattern appears as a substring of Genome\n",
    "def PatternMatching(Pattern, Genome):\n",
    "    positions = [] # output variable\n",
    "    # your code here\n",
    "    for i in range(len(Genome)-len(Pattern)+1):\n",
    "        if Genome[i:i+len(Pattern)] == Pattern:\n",
    "            positions.append(i)\n",
    "    return positions\n",
    "\n",
    "\n",
    "```\n",
    "\n"
   ]
  },
  {
   "cell_type": "markdown",
   "metadata": {},
   "source": [
    "\n",
    "Exercise Break (1 point): Apply your solution to the Pattern Matching Problem to find all starting positions of \"CTTGATCAT\" in the Vibrio cholerae genome. (Give the positions in increasing order.)\n",
    "\n",
    "The genome will be automatically read below, but in the event that you want to play with the Vibrio cholerae genome on your own computer, you can download the genome here.\n",
    "\n",
    "Sample Input:\n",
    "\n",
    "CTTGATCAT\n",
    "CTTGATCATCTTGATCATCTTGATCAT\n",
    "\n",
    "Sample Output:\n",
    "\n",
    "[0, 9, 18]\n",
    "\n",
    "``` python\n",
    "# Copy your PatternMatching function below this line.\n",
    "def PatternMatching(Pattern, Genome):\n",
    "    positions = [] # output variable\n",
    "    # your code here\n",
    "    for i in range(len(Genome)-len(Pattern)+1):\n",
    "        if Genome[i:i+len(Pattern)] == Pattern:\n",
    "            positions.append(i)\n",
    "    return positions\n",
    "\n",
    "# The following lines will automatically read in the Vibrio cholerae genome for you and store it in a variable named v_cholerae\n",
    "import sys                              # needed to read the genome\n",
    "input = sys.stdin.read().splitlines()   #\n",
    "v_cholerae = input[1]                   # store the genome as 'v_cholerae'\n",
    "\n",
    "\n",
    "# Call PatternMatching with Pattern equal to \"CTTGATCAT\" and Genome equal to v_cholerae,\n",
    "# and store the output as a variable called positions\n",
    "positions = PatternMatching(\"CTTGATCAT\", v_cholerae)\n",
    "\n",
    "# print the positions variable\n",
    "print(positions)\n",
    "```\n",
    "\n",
    "Passed test #2. Correct! \"CTTGATCAT\" occurs in the Vibrio cholerae genome at the following indices:\n",
    "60039 98409 129189 152283 152354 152411 163207 197028 200160 357976 376771 392723 532935 600085 622755 1065555"
   ]
  },
  {
   "cell_type": "markdown",
   "metadata": {},
   "source": [
    "<img align=\"center\" style=\"padding-right:10px;\" src=\"figures/fig7.png\">"
   ]
  },
  {
   "cell_type": "code",
   "execution_count": null,
   "metadata": {
    "collapsed": true
   },
   "outputs": [],
   "source": []
  }
 ],
 "metadata": {
  "kernelspec": {
   "display_name": "Python 3",
   "language": "python",
   "name": "python3"
  },
  "language_info": {
   "codemirror_mode": {
    "name": "ipython",
    "version": 3
   },
   "file_extension": ".py",
   "mimetype": "text/x-python",
   "name": "python",
   "nbconvert_exporter": "python",
   "pygments_lexer": "ipython3",
   "version": "3.4.5"
  }
 },
 "nbformat": 4,
 "nbformat_minor": 0
}
