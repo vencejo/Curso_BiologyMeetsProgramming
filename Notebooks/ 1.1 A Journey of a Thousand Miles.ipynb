{
 "cells": [
  {
   "cell_type": "markdown",
   "metadata": {},
   "source": [
    "<img align=\"left\" style=\"padding-right:10px;\" src=\"figures/cartel.jpg\">\n",
    "<!--COURSE_INFORMATION-->\n",
    "## This notebook contains a unit from the course [Biology Meets Programming](https://www.coursera.org/learn/bioinformatics/home/welcome) by University of California in Coursera \n",
    "\n",
    "\n",
    "### The content is available [on GitHub](https://github.com/vencejo/Curso_BiologyMeetsProgramming)."
   ]
  },
  {
   "cell_type": "markdown",
   "metadata": {},
   "source": [
    "<!--NAVIGATION-->\n",
    "< [Where in the Genome Does DNA Replication Begin Part 1](Where in the Genome Does DNA Replication Begin Part 1.ipynb) | [Contents](Index.ipynb) | [1.2 Hidden Messages in the Replication Origin Part 1](1.2 Hidden Messages in the Replication Origin Part 1.ipynb) >"
   ]
  },
  {
   "cell_type": "markdown",
   "metadata": {},
   "source": [
    "###  1.1 A Journey of a Thousand Miles"
   ]
  },
  {
   "cell_type": "markdown",
   "metadata": {},
   "source": [
    "** Genome replication ** is one of the most important tasks carried out in the cell. Before a cell can divide, it must first replicate its genome so that each of the two daughter cells inherits its own copy. In 1953, James Watson and Francis Crick completed their landmark paper on the DNA double helix with a now-famous phrase: \n",
    "\n",
    "\"It has not escaped our notice that the specific pairing we have postulated immediately suggests a possible copying mechanism for the genetic material.\"\n",
    "\n",
    "They conjectured that the two strands of the parent DNA molecule unwind during replication, and then each parent strand acts as a template for the synthesis of a new strand. As a result, the replication process begins with a pair of complementary strands of DNA and ends with two pairs of complementary strands, as shown in the figure below."
   ]
  },
  {
   "cell_type": "markdown",
   "metadata": {},
   "source": [
    "<img align=\"left\" style=\"padding-right:10px;\" src=\"figures/fig1.jpg\">"
   ]
  },
  {
   "cell_type": "markdown",
   "metadata": {},
   "source": [
    "\n",
    "\n",
    "Although this figure models DNA replication on a simple level, the details of replication turned out to be much more intricate than Watson and Crick imagined; as we will see, an astounding amount of molecular logistics is required to ensure DNA replication.\n",
    "\n",
    "At first glance, a computer scientist might not imagine that these details have any computational relevance. To mimic replication algorithmically, we only need to take a string representing the genome and return a copy of it! Yet if we take the time to review the underlying biological process, we will be rewarded with new algorithmic insights into analyzing replication.\n"
   ]
  },
  {
   "cell_type": "markdown",
   "metadata": {},
   "source": [
    "\n",
    "\n",
    "Replication begins in a genomic region called the ** replication origin (denoted ori) ** and is performed by molecular copy machines called ** DNA polymerases **. Locating ori presents an important task not only for understanding how cells replicate but also for various biomedical problems. For example, some gene therapy methods use genetically engineered mini-genomes, which are called viral vectors because they are able to penetrate cell walls (just like real viruses). Viral vectors carrying artificial genes have been widely used in agriculture, such as to engineer frost-resistant tomatoes and pesticide-resistant corn. In 1990, gene therapy was first successfully performed on humans when it saved the life of a four year-old girl suffering from an immunodeficiency disorder; the girl had been so vulnerable to infections that she was forced to live in a sterile environment.\n",
    "\n",
    "The idea of gene therapy is to intentionally infect a patient who lacks a crucial gene with a viral vector containing an artificial gene that encodes a therapeutic protein. Once inside the cell, the vector replicates and eventually produces many molecules of the therapeutic protein, which in turn treats the patient’s disease. To ensure that the vector actually replicates inside the cell, biologists must know where ori is in the vector’s genome and ensure that the genetic manipulations that they perform do not affect it.\n"
   ]
  },
  {
   "cell_type": "markdown",
   "metadata": {},
   "source": [
    "\n",
    "In the following problem, we assume that a genome has a single ori and is represented as a DNA string, or a sequence of nucleotides from the four-letter alphabet {A, C, G, T}.\n",
    "\n",
    "Finding Origin of Replication Problem\n",
    "* Input: A DNA string Genome.\n",
    "* Output: The location of ori in Genome.\n",
    "\n",
    "STOP and Think: Does this biological problem represent a clearly stated computational problem?\n",
    "\n",
    "Note: \"STOP and Think\" questions are opportunities for you to think about an aspect of the discussion before proceeding.  You do not need to answer them anywhere, but you may like to post your thoughts to the discussion forum at the bottom of the page and interact with other students.\n"
   ]
  },
  {
   "cell_type": "markdown",
   "metadata": {},
   "source": [
    "\n",
    "\n",
    "Although the Finding Origin of Replication Problem asks a legitimate biological question, it does not present a well-defined computational problem. Indeed, biologists would immediately plan an experiment to locate ori: for example, deleting various short segments from the genome and eventually finding a segment whose deletion stops replication. Computer scientists, on the other hand, would shake their heads and demand more information before even thinking about the problem.\n",
    "\n",
    "Why should biologists care what computer scientists think? Computational methods are now the only realistic way to answer many questions in modern biology. First, these methods are much faster than experimental approaches; second, the results of many experiments cannot be interpreted without computational analysis. In particular, existing experimental approaches to ori prediction are rather time consuming. As a result, ori has only been experimentally located in a handful of species. Thus, we would like to design a computational approach to find ori so that biologists are free to spend their time and money on other tasks.\n"
   ]
  },
  {
   "cell_type": "markdown",
   "metadata": {},
   "source": [
    "\n",
    "\n",
    "Python Practice: Before we continue learning about DNA replication, let’s get started with Python! Complete the Python Syntax lesson in Unit 1 on Codecademy (13 exercises).  We suggest signing up for an account in case you are interested in learning additional skills there.\n",
    "\n",
    "Note: Completing linked Codecademy exercises is optional, if you already know a little Python or if you would like to use another resource for learning the language. Why, then, do we link to Codecademy?  The Python track on Codecademy is the most successful Python learning experience in the world, with over 2.5 million enrolled learners and a huge amount of investment.  If you do choose to complete these exercises, note that we have carefully selected Codecademy exercises to parallel this text so that you will be able to quickly apply what you learn to solve the biological problems that we will encounter.\n",
    "\n",
    "You have finished the lesson when you see a message saying \"Congratulations, you've finished this course!\" (If you see the tip calculator lesson, you have gone too far.) When you are finished with the Codecademy lessons, come back to Stepic and hit the right arrow button on your keyboard to continue the chapter.\n"
   ]
  },
  {
   "cell_type": "code",
   "execution_count": null,
   "metadata": {
    "collapsed": true
   },
   "outputs": [],
   "source": []
  }
 ],
 "metadata": {
  "kernelspec": {
   "display_name": "Python 3",
   "language": "python",
   "name": "python3"
  },
  "language_info": {
   "codemirror_mode": {
    "name": "ipython",
    "version": 3
   },
   "file_extension": ".py",
   "mimetype": "text/x-python",
   "name": "python",
   "nbconvert_exporter": "python",
   "pygments_lexer": "ipython3",
   "version": "3.4.5"
  }
 },
 "nbformat": 4,
 "nbformat_minor": 0
}
