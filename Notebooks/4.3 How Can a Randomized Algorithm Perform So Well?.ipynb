{
 "cells": [
  {
   "cell_type": "markdown",
   "metadata": {},
   "source": [
    "<img align=\"left\" style=\"padding-right:10px;\" src=\"figures/cartel.jpg\">\n",
    "<!--COURSE_INFORMATION-->\n",
    "## This notebook contains the index from the course [Biology Meets Programming](https://www.coursera.org/learn/bioinformatics/home/welcome) by University of California in Coursera \n",
    "\n",
    "\n",
    "### The content is available [on GitHub](https://github.com/vencejo/Curso_BiologyMeetsProgramming)."
   ]
  },
  {
   "cell_type": "markdown",
   "metadata": {},
   "source": [
    "<!--NAVIGATION-->\n",
    "< [4.2 Randomized Motif Search](4.2 Randomized Motif Search.ipynb)| [Contents](Index.ipynb) | [4.4 Gibbs Sampling ](4.4 Gibbs Sampling .ipynb)>"
   ]
  },
  {
   "cell_type": "markdown",
   "metadata": {
    "collapsed": true
   },
   "source": [
    "<img align=\"center\" style=\"padding-right:10px;\" src=\"figures/fig67.png\">\n",
    "<img align=\"center\" style=\"padding-right:10px;\" src=\"figures/fig68.png\">\n",
    "<img align=\"center\" style=\"padding-right:10px;\" src=\"figures/fig69.png\">\n",
    "<img align=\"center\" style=\"padding-right:10px;\" src=\"figures/fig70.png\">"
   ]
  },
  {
   "cell_type": "markdown",
   "metadata": {},
   "source": [
    "<!--NAVIGATION-->\n",
    "< [4.2 Randomized Motif Search](4.2 Randomized Motif Search.ipynb)| [Contents](Index.ipynb) | [4.4 Gibbs Sampling ](4.4 Gibbs Sampling .ipynb)>"
   ]
  },
  {
   "cell_type": "code",
   "execution_count": null,
   "metadata": {
    "collapsed": true
   },
   "outputs": [],
   "source": []
  }
 ],
 "metadata": {
  "kernelspec": {
   "display_name": "Python 3",
   "language": "python",
   "name": "python3"
  },
  "language_info": {
   "codemirror_mode": {
    "name": "ipython",
    "version": 3
   },
   "file_extension": ".py",
   "mimetype": "text/x-python",
   "name": "python",
   "nbconvert_exporter": "python",
   "pygments_lexer": "ipython3",
   "version": "3.4.5"
  }
 },
 "nbformat": 4,
 "nbformat_minor": 0
}
