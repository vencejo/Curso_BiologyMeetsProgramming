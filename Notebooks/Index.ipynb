{
 "cells": [
  {
   "cell_type": "markdown",
   "metadata": {},
   "source": [
    "<img align=\"left\" style=\"padding-right:10px;\" src=\"figures/cartel.jpg\">\n",
    "<!--COURSE_INFORMATION-->\n",
    "## This notebook contains the index from the course [Biology Meets Programming](https://www.coursera.org/learn/bioinformatics/home/welcome) by University of California in Coursera \n",
    "\n",
    "\n",
    "### The content is available [on GitHub](https://github.com/vencejo/Curso_BiologyMeetsProgramming)."
   ]
  },
  {
   "cell_type": "markdown",
   "metadata": {},
   "source": [
    "## Table of Contents\n",
    "\n",
    "### [1. Where in the Genome Does DNA Replication Begin Part 1](1. Where in the Genome Does DNA Replication Begin Part 1.ipynb)\n",
    "- [ 1.1 A Journey of a Thousand Miles...](1.1 A Journey of a Thousand Miles.ipynb)\n",
    "- [1.2 Hidden Messages in the Replication Origin Part 1](1.2 Hidden Messages in the Replication Origin Part 1.ipynb)\n",
    "- [1.3 Hidden Messages in the Replication Origin Part 2](1.3 Hidden Messages in the Replication Origin Part 2.ipynb)\n",
    "- [1.4 Some Hidden Messages are More Surprising than Others](1.4 Some Hidden Messages are More Surprising than Others.ipynb)\n",
    "- [1.5 An Explosion of Hidden Messages](1.5 An Explosion of Hidden Messages.ipynb)\n",
    "- [1.6 Detour The Most Beautiful Experiment in Biology](1.6 Detour The Most Beautiful Experiment in Biology.ipynb)\n",
    "- [1.7 Detour Directionality of DNA Strands](1.7 Detour Directionality of DNA Strands.ipynb)\n",
    "\n",
    "\n",
    "### [2. Where in the Genome Does DNA Replication Begin Part 2](2. Where in the Genome Does DNA Replication Begin Part 2.ipynb)\n",
    "- [2.1 The Simplest Way to Replicate DNA...](2.1 The Simplest Way to Replicate DNA.ipynb)\n",
    "- [2.2 Asymmetry of Replication](2.2 Asymmetry of Replication.ipynb)\n",
    "- [2.3 Peculiar Statistics of the Forward and Reverse Half-Strands](2.3 Peculiar Statistics of the Forward and Reverse Half-Strands.ipynb)\n",
    "- [2.4 The Skew Diagram](2.4 The Skew Diagram.ipynb)\n",
    "- [2.5 Some Hidden Messages Are More Elusive than Others](2.5 Some Hidden Messages Are More Elusive than Others.ipynb)\n",
    "- [2.6 A Final Attempt at Finding DnaA Boxes in E. coli](2.6 A Final Attempt at Finding DnaA Boxes in E. coli.ipynb)\n",
    "- [2.7 Detour: Big-O Notation](2.7 Detour Big-O Notation.ipynb)\n",
    "\n",
    "### [3. Which DNA Patterns Play The Role of Molecular Clocks? Part 1](3. Which DNA Patterns Play The Role of Molecular Clocks%3F Part 1.ipynb)\n",
    "- [3.1 Do We Have a \"Clock\" Gene?](3.1 Do We Have a \"Clock\" Gene?.ipynb)\n",
    "- [3.2 Motif Finding is More Difficult Than You Think](3.2 Motif Finding is More Difficult Than You Think.ipynb)\n",
    "- [3.3 Scoring Motifs](3.3 Scoring Motifs.ipynb)\n",
    "- [3.4 Greedy Motif Search](3.4 Greedy Motif Search.ipynb)\n",
    "- [3.5 Detour Discovery of Codons and Split Genes](3.5 Detour Discovery of Codons and Split Genes.ipynb)\n",
    "- [3.6 Detour DNA Arrays](3.6 Detour DNA Arrays.ipynb)\n",
    "- [3.7 Detour Motif Scoring Functions](3.7 Detour Motif Scoring Functions.ipynb)\n",
    "\n",
    "### [4. Which DNA Patterns Play The Role of Molecular Clocks? Part 2](4. Which DNA Patterns Play The Role of Molecular Clocks%3F Part 2.ipynb)\n",
    "- [4.1 Motif Finding Meets Oliver Cromwell](4.1 Motif Finding Meets Oliver Cromwell.ipynb)\n",
    "- [4.2 Randomized Motif Search](4.2 Randomized Motif Search.ipynb)\n",
    "- [4.3 How Can a Randomized Algorithm Perform So Well? ](4.3 How Can a Randomized Algorithm Perform So Well%3F.ipynb)\n",
    "- [4.4 Gibbs Sampling ](4.4 Gibbs Sampling .ipynb)\n",
    "- [4.5 Detour Buffon's Needle ](4.5 Detour Buffon's Needle.ipynb)\n",
    "- [4.6 Detour Complications in Motif Finding ](4.6 Detour Complications in Motif Finding.ipynb)"
   ]
  },
  {
   "cell_type": "code",
   "execution_count": null,
   "metadata": {
    "collapsed": true
   },
   "outputs": [],
   "source": []
  }
 ],
 "metadata": {
  "kernelspec": {
   "display_name": "Python 3",
   "language": "python",
   "name": "python3"
  },
  "language_info": {
   "codemirror_mode": {
    "name": "ipython",
    "version": 3
   },
   "file_extension": ".py",
   "mimetype": "text/x-python",
   "name": "python",
   "nbconvert_exporter": "python",
   "pygments_lexer": "ipython3",
   "version": "3.4.5"
  }
 },
 "nbformat": 4,
 "nbformat_minor": 0
}
