{
 "cells": [
  {
   "cell_type": "markdown",
   "metadata": {},
   "source": [
    "<img align=\"left\" style=\"padding-right:10px;\" src=\"figures/cartel.jpg\">\n",
    "<!--COURSE_INFORMATION-->\n",
    "## This notebook contains the index from the course [Biology Meets Programming](https://www.coursera.org/learn/bioinformatics/home/welcome) by University of California in Coursera \n",
    "\n",
    "\n",
    "### The content is available [on GitHub](https://github.com/vencejo/Curso_BiologyMeetsProgramming)."
   ]
  },
  {
   "cell_type": "markdown",
   "metadata": {},
   "source": [
    "## Table of Contents\n",
    "\n",
    "### [1. Where in the Genome Does DNA Replication Begin Part 1](Where in the Genome Does DNA Replication Begin Part 1.ipynb)\n",
    "- [ 1.1 A Journey of a Thousand Miles...](1.1 A Journey of a Thousand Miles.ipynb)\n",
    "- [1.2 Hidden Messages in the Replication Origin Part 1](1.2 Hidden Messages in the Replication Origin Part 1.ipynb)\n",
    "- [1.3 Hidden Messages in the Replication Origin Part 2](1.3 Hidden Messages in the Replication Origin Part 2.ipynb)\n",
    "- [1.4 Some Hidden Messages are More Surprising than Others](1.4 Some Hidden Messages are More Surprising than Others.ipynb)\n",
    "- [1.5 An Explosion of Hidden Messages](1.5 An Explosion of Hidden Messages.ipynb)\n",
    "- [1.6 Detour The Most Beautiful Experiment in Biology](1.6 Detour The Most Beautiful Experiment in Biology.ipynb)\n",
    "- [1.7 Detour Directionality of DNA Strands](1.7 Detour Directionality of DNA Strands.ipynb)\n",
    "\n",
    "\n",
    "### [2. Where in the Genome Does DNA Replication Begin Part 2](Where in the Genome Does DNA Replication Begin Part 2.ipynb)\n",
    "- [2.1 The Simplest Way to Replicate DNA...](2.1 The Simplest Way to Replicate DNA.ipynb)\n",
    "- [2.2 Asymmetry of Replication](2.2 Asymmetry of Replication.ipynb)\n",
    "- [2.3 Peculiar Statistics of the Forward and Reverse Half-Strands](2.3 Peculiar Statistics of the Forward and Reverse Half-Strands.ipynb)\n",
    "- [2.4 The Skew Diagram](2.4 The Skew Diagram.ipynb)\n",
    "- [2.5 Some Hidden Messages Are More Elusive than Others](2.5 Some Hidden Messages Are More Elusive than Others.ipynb)\n",
    "- [2.6 A Final Attempt at Finding DnaA Boxes in E. coli](2.6 A Final Attempt at Finding DnaA Boxes in E. coli.ipynb)\n",
    "- [2.7 Detour: Big-O Notation](2.7 Detour Big-O Notation.ipynb)"
   ]
  },
  {
   "cell_type": "code",
   "execution_count": null,
   "metadata": {
    "collapsed": true
   },
   "outputs": [],
   "source": []
  }
 ],
 "metadata": {
  "kernelspec": {
   "display_name": "Python 3",
   "language": "python",
   "name": "python3"
  },
  "language_info": {
   "codemirror_mode": {
    "name": "ipython",
    "version": 3
   },
   "file_extension": ".py",
   "mimetype": "text/x-python",
   "name": "python",
   "nbconvert_exporter": "python",
   "pygments_lexer": "ipython3",
   "version": "3.4.5"
  }
 },
 "nbformat": 4,
 "nbformat_minor": 0
}
