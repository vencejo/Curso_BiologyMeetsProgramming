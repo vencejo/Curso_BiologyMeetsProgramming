{
 "cells": [
  {
   "cell_type": "markdown",
   "metadata": {},
   "source": [
    "<img align=\"left\" style=\"padding-right:10px;\" src=\"figures/cartel.jpg\">\n",
    "<!--COURSE_INFORMATION-->\n",
    "## This notebook contains the index from the course [Biology Meets Programming](https://www.coursera.org/learn/bioinformatics/home/welcome) by University of California in Coursera \n",
    "\n",
    "\n",
    "### The content is available [on GitHub](https://github.com/vencejo/Curso_BiologyMeetsProgramming)."
   ]
  },
  {
   "cell_type": "markdown",
   "metadata": {},
   "source": [
    "<!--NAVIGATION-->\n",
    "< [3.6 Detour DNA Arrays](3.6 Detour DNA Arrays.ipynb)| [Contents](Index.ipynb) | >"
   ]
  },
  {
   "cell_type": "markdown",
   "metadata": {},
   "source": [
    "<img align=\"center\" style=\"padding-right:10px;\" src=\"figures/fig48.png\">"
   ]
  },
  {
   "cell_type": "markdown",
   "metadata": {},
   "source": [
    "For many biological motifs, certain positions feature two nucleotides with roughly the same ability to bind to a transcription factor. For example, the sixteen nucleotide-long CSRE transcription factor binding site in the yeast S. cerevisiae consists of five strongly conserved positions in addition to eleven weakly conserved positions, each of which features two nucleotides with similar frequencies (the figure below). \n",
    "\n",
    "<img align=\"center\" style=\"padding-right:10px;\" src=\"figures/fig49.png\">\n",
    "\n",
    "Following this example, a more appropriate representation of the consensus string \"TCGGGGATTTCC\" for the NF-κB binding sites should include viable alternatives to the most popular nucleotides in each column (figure below). In this sense, the last column (6 C, 4 T) in the motif matrix from the figure in the first step is “more conserved” than the second column (6 C, 2 A, 2 T) and should receive a lower score. (Note that the corresponding position in the motif logo in the figure in the first step is taller as well.)\n",
    "\n",
    "<img align=\"center\" style=\"padding-right:10px;\" src=\"figures/fig50.png\">\n",
    "\n",
    "In order to define a motif scoring function taking this into account, first note that every column of Profile(Motifs) corresponds to a probability distribution, or a collection of nonnegative numbers that sum to 1. For example, the second column in the figure in the first step corresponds to the probabilities 0.2, 0.6, 0.0, and 0.2 for A, C, G, and T, respectively.\n",
    "\n",
    "<img align=\"center\" style=\"padding-right:10px;\" src=\"figures/fig53.png\">\n",
    "\n",
    "STOP and Think: What are the maximum and minimum possible values for the entropy of a probability distribution containing four values?\n",
    "\n",
    "The entropy of the completely conserved third column of the profile matrix in the figure in the first step is 0, which is the minimum possible entropy. On the other hand, a column with equally-likely nucleotides (all probabilities equal to 1/4) has maximum possible entropy 4 · 1/4 · log2 (1/4) = 2. In general, the more conserved the column, the smaller its entropy. Thus, entropy offers an improved method of scoring motif matrices: the entropy of a motif matrix is defined as the sum of the entropies of its columns. In this book, we will continue to use Score(Motifs) for simplicity, but the entropy score is used more often in practice.\n",
    "\n",
    "<img align=\"center\" style=\"padding-right:10px;\" src=\"figures/fig51.png\">\n",
    "\n",
    "\n",
    "\n",
    "Another application of entropy is the motif logo, a diagram for visualizing motif conservation that consists of a stack of letters at each position (see the bottom of the NF-κB figure, reproduced below). The relative sizes of letters indicate their frequency in the column. The total height of the letters in each column is based on the information content of the column, which is defined as 2 - H(p1,...,pN). The lower the entropy, the higher the information content, meaning that tall columns in the motif logo are highly conserved.\n",
    "\n",
    "<img align=\"center\" style=\"padding-right:10px;\" src=\"figures/fig52.png\">\n",
    "\n",
    "\n",
    "\n"
   ]
  },
  {
   "cell_type": "markdown",
   "metadata": {},
   "source": [
    "<!--NAVIGATION-->\n",
    "< [3.6 Detour DNA Arrays](3.6 Detour DNA Arrays.ipynb)| [Contents](Index.ipynb) | >"
   ]
  },
  {
   "cell_type": "code",
   "execution_count": null,
   "metadata": {
    "collapsed": true
   },
   "outputs": [],
   "source": []
  }
 ],
 "metadata": {
  "kernelspec": {
   "display_name": "Python 3",
   "language": "python",
   "name": "python3"
  },
  "language_info": {
   "codemirror_mode": {
    "name": "ipython",
    "version": 3
   },
   "file_extension": ".py",
   "mimetype": "text/x-python",
   "name": "python",
   "nbconvert_exporter": "python",
   "pygments_lexer": "ipython3",
   "version": "3.4.5"
  }
 },
 "nbformat": 4,
 "nbformat_minor": 0
}
