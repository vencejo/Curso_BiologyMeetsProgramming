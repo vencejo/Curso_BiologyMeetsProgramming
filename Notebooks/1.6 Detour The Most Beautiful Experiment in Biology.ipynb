{
 "cells": [
  {
   "cell_type": "markdown",
   "metadata": {
    "collapsed": true
   },
   "source": [
    "<img align=\"left\" style=\"padding-right:10px;\" src=\"figures/cartel.jpg\">\n",
    "<!--COURSE_INFORMATION-->\n",
    "## This notebook contains a unit from the course [Biology Meets Programming](https://www.coursera.org/learn/bioinformatics/home/welcome) by University of California in Coursera \n",
    "\n",
    "\n",
    "### The content is available [on GitHub](https://github.com/vencejo/Curso_BiologyMeetsProgramming)."
   ]
  },
  {
   "cell_type": "markdown",
   "metadata": {},
   "source": [
    "The Meselson-Stahl experiment, conducted in 1958 by Matthew Meselson and Franklin Stahl, is sometimes called \"the most beautiful experiment in biology\". In the late 1950s, biologists debated three conflicting models of DNA replication, illustrated in the figure below. The semiconservative hypothesis suggested that each parent strand acts as a template for the synthesis of a daughter strand. As a result, each of the two daughter molecules contains one parent strand and one newly synthesized strand. The conservative hypothesis proposed that the entire double-stranded parent DNA molecule serves as a template for the synthesis of a new daughter molecule, resulting in one molecule with two parent strands and another with two newly synthesized strands. The dispersive hypothesis proposed that some mechanism breaks the DNA backbone into pieces and splices intervals of synthesized DNA, so that each of the daughter molecules is a patchwork of old and new double-stranded DNA.\n",
    "\n",
    "The three models are illustrated below, with parent DNA colored yellow and newly synthesized DNA colored black.\n",
    "\n",
    "<img align=\"center\" style=\"padding-right:10px;\" src=\"figures/fig11.png\">"
   ]
  },
  {
   "cell_type": "markdown",
   "metadata": {},
   "source": [
    "\n",
    "\n",
    "Meselson and Stahl's insight relied on the fact that one isotope of nitrogen, Nitrogen-14 (14N), is lighter and more abundant than Nitrogen-15 (15N). Knowing that the DNA molecular structure naturally contains 14N , Meselson and Stahl grew E. coli for many rounds of replication in a 15N medium, which caused the bacteria to gain weight as they absorbed the heavier isotope into their DNA.\n",
    "\n",
    "When they were confident that the bacterial DNA was saturated with 15N, they transferred these heavy E. coli cells to a less dense 14N medium.\n",
    "\n",
    "STOP and Think: What do you think happened when the “heavy” E. coli replicated in the “light” 14N medium?\n"
   ]
  },
  {
   "cell_type": "markdown",
   "metadata": {},
   "source": [
    "The brilliance of the Meselson-Stahl experiment is that all newly synthesized DNA would contain exclusively 14N, and the three existing hypotheses for DNA replication predicted different outcomes for how this 14N isotope would be incorporated into DNA. Specifically, after one round of replication, the conservative model predicted that half the E. coli DNA would still have only 15N and therefore be heavier, whereas the other half would have only 14N and be lighter. Yet when they attempted to separate the E. coli DNA according to weight by using a centrifuge after one round of replication, all of the DNA had the same density! Just like that, they had refuted the conservative hypothesis once and for all.\n",
    "\n",
    "<img align=\"center\" style=\"padding-right:10px;\" src=\"figures/fig11.png\">\n",
    "\n",
    "Unfortunately, this experiment was not able to eliminate either of the other two models, as you can see that both the dispersive and semiconservative hypotheses predicted that all of the DNA after one round of replication would have the same density.\n",
    "\n",
    "STOP and Think: What would the dispersive and semiconservative models predict about the density of E. coli DNA after two rounds of replication?\n",
    "\n",
    "Let’s first consider the dispersive model, which says that each daughter strand of DNA is formed by half mashed up pieces of the parent strand, and half new DNA. If this hypothesis were true, then after two replication cycles, any daughter strand of DNA should contain about 25% 15N and about 75% 14N. In other words, all the DNA should still have the same density. And yet when Meselson and Stahl spun the centrifuge after two rounds of E. coli replication, this is not what they observed!\n",
    "\n",
    "Instead, they found that the DNA divided into two different densities. This is exactly what the semiconservative model predicted: after one cycle, every cell should possess one 14N strand and one 15N strand; after two cycles, half of the DNA molecules should have one 14N strand and one 15N strand, while the other half should have two 14N strands, producing the two different densities they noticed.\n",
    "\n",
    "<img align=\"center\" style=\"padding-right:10px;\" src=\"figures/fig12.png\">\n"
   ]
  },
  {
   "cell_type": "markdown",
   "metadata": {},
   "source": [
    "Meselson and Stahl had rejected the conservative and dispersive hypotheses of replication, and yet they wanted to make sure that the semiconservative hypothesis was confirmed by further E. coli replication. This model predicted that after three rounds of replication, one-quarter of the DNA molecules should still have a 15N strand, causing 25% of the DNA to have an intermediate density, whereas the remaining 75% should be lighter, having only 14N. This is indeed what Meselson and Stahl witnessed in the lab, and the semiconservative hypothesis has stood strong to this day."
   ]
  },
  {
   "cell_type": "code",
   "execution_count": null,
   "metadata": {
    "collapsed": true
   },
   "outputs": [],
   "source": []
  }
 ],
 "metadata": {
  "kernelspec": {
   "display_name": "Python 3",
   "language": "python",
   "name": "python3"
  },
  "language_info": {
   "codemirror_mode": {
    "name": "ipython",
    "version": 3
   },
   "file_extension": ".py",
   "mimetype": "text/x-python",
   "name": "python",
   "nbconvert_exporter": "python",
   "pygments_lexer": "ipython3",
   "version": "3.4.5"
  }
 },
 "nbformat": 4,
 "nbformat_minor": 0
}
