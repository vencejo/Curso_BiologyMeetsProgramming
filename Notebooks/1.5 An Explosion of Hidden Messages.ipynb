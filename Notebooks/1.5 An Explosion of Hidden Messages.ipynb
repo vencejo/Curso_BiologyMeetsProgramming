{
 "cells": [
  {
   "cell_type": "markdown",
   "metadata": {
    "collapsed": true
   },
   "source": [
    "<img align=\"left\" style=\"padding-right:10px;\" src=\"figures/cartel.jpg\">\n",
    "<!--COURSE_INFORMATION-->\n",
    "## This notebook contains a unit from the course [Biology Meets Programming](https://www.coursera.org/learn/bioinformatics/home/welcome) by University of California in Coursera \n",
    "\n",
    "\n",
    "### The content is available [on GitHub](https://github.com/vencejo/Curso_BiologyMeetsProgramming)."
   ]
  },
  {
   "cell_type": "markdown",
   "metadata": {},
   "source": [
    "<img align=\"center\" style=\"padding-right:10px;\" src=\"figures/fig8.png\">"
   ]
  },
  {
   "cell_type": "markdown",
   "metadata": {},
   "source": [
    "<img align=\"center\" style=\"padding-right:10px;\" src=\"figures/fig9.png\">"
   ]
  },
  {
   "cell_type": "markdown",
   "metadata": {},
   "source": [
    "``` python\n",
    "# Copy your PatternCount function below here\n",
    "def PatternCount(Pattern, Text):\n",
    "    count = 0\n",
    "    for i in range(len(Text)-len(Pattern)+1):\n",
    "        if Text[i:i+len(Pattern)] == Pattern:\n",
    "            count = count+1\n",
    "    return count\n",
    "\n",
    "# On the following line, create a variable called Text that is equal to the oriC region from T petrophila\n",
    "oriC = \"\"\"aactctatacctcctttttgtcgaatttgtgtgatttatagagaaaatcttattaactga\n",
    "aactaaaatggtaggtttggtggtaggttttgtgtacattttgtagtatctgatttttaa\n",
    "ttacataccgtatattgtattaaattgacgaacaattgcatggaattgaatatatgcaaa\n",
    "acaaacctaccaccaaactctgtattgaccattttaggacaacttcagggtggtaggttt\n",
    "ctgaagctctcatcaatagactattttagtctttacaaacaatattaccgttcagattca\n",
    "agattctacaacgctgttttaatgggcgttgcagaaaacttaccacctaaaatccagtat\n",
    "ccaagccgatttcagagaaacctaccacttacctaccacttacctaccacccgggtggta\n",
    "agttgcagacattattaaaaacctcatcagaagcttgttcaaaaatttcaatactcgaaa\n",
    "cctaccacctgcgtcccctattatttactactactaataatagcagtataattgatctga\"\"\"\n",
    "\n",
    "# On the following line, create a variable called count_1 that is equal to the number of times\n",
    "# that \"ATGATCAAG\" occurs in Text.\n",
    "count_1 = PatternCount(oriC, \"ATGATCAAG\")\n",
    "\n",
    "\n",
    "# On the following line, create a variable called count_2 that is equal to the number of times\n",
    "# that \"CTTGATCAT\" occurs in Text. \n",
    "count_2 = PatternCount(oriC, \"CTTGATCAT\")\n",
    "\n",
    "\n",
    "\n",
    "# Finally, print the sum of count_1 and count_2\n",
    "print(str(count_1 + count_2))\n",
    "```\n",
    "\n",
    "Passed test #3. Correct! \"ATGATCAAG\" occurs 0 times, and \"CTTGATCAT\" occurs 0 times"
   ]
  },
  {
   "cell_type": "markdown",
   "metadata": {},
   "source": [
    "This region does not contain a single occurrence of \"ATGATCAAG\" or \"CTTGATCAT\"! Thus, different bacteria may use different DnaA boxes as “hidden messages” to the DnaA protein.\n",
    "\n",
    "Application of the Frequent Words Problem to the ori region above reveals that the following six 9-mers appear in this region three or more times:\n",
    "\n",
    "\"AACCTACCA\"  \"AAACCTACC\"  \"ACCTACCAC\"\n",
    "\"CCTACCACC\"  \"GGTAGGTTT\"  \"TGGTAGGTT\"\n",
    "\n",
    "Something peculiar must be happening because it is extremely unlikely that six different 9-mers will occur so frequently within the same short region in a random string. We will cheat a little and consult with Ori-Finder, a software tool for finding replication origins in DNA sequences. This software chooses \"CCTACCACC\" (along with its reverse complement \"GGTGGTAGG\") as a working hypothesis for the DnaA box in Thermotoga petrophila. Together, these two complementary 9-mers appear five times in the replication origin:"
   ]
  },
  {
   "cell_type": "markdown",
   "metadata": {},
   "source": [
    "<img align=\"center\" style=\"padding-right:10px;\" src=\"figures/fig10.png\">"
   ]
  },
  {
   "cell_type": "markdown",
   "metadata": {},
   "source": [
    "\n",
    "### The Clump Finding Problem\n",
    "\n",
    "Now imagine that you are trying to find ori in a newly sequenced bacterial genome. Searching for “clumps” of \"ATGATCAAG\"/\"CTTGATCAT\" or \"CCTACCACC\"/\"GGTGGTAGG\" is unlikely to help, since this new genome may use a completely different hidden message! ** Before we lose all hope, let’s change our computational focus: instead of finding clumps of a specific k-mer, let’s try to find every k-mer that forms a clump in the genome. Hopefully, the locations of these clumps will shed light on the location of ori.**\n",
    "\n",
    "Our plan is to slide a window of fixed length L along the genome, looking for a region where a k-mer appears several times in short succession. The parameter value L = 500 reflects the typical length of ori in bacterial genomes.\n",
    "\n",
    "We think of a k-mer as a “clump” if it appears many times within a short interval of the genome. More formally, given integers L and t, a k-mer Pattern forms an (L, t)-clump inside a (longer) string Genome if there is an interval of Genome of length L in which this k-mer appears at least t times. (This definition assumes that the k-mer completely fits within the interval.) For example, \"TGCA\" forms a (25, 3)-clump in the following Genome:\n",
    "\n",
    "gatcagcataagggtccC**TGCA**A**TGCA**TGACAAGCC**TGCA**GTtgttttac\n"
   ]
  },
  {
   "cell_type": "markdown",
   "metadata": {},
   "source": [
    "\n",
    "\n",
    "From our previous examples of ori regions, \"ATGATCAAG\" forms a (500, 3)-clump in the Vibrio cholerae genome, and \"CCTACCACC\" forms a (500, 3)-clump in the Thermotoga petrophila genome. We are now ready to formulate the following problem.\n",
    "\n",
    "Clump Finding Problem: ",
    " Find patterns forming clumps in a string.\n",
    "     * Input: A string Genome, and integers k, L, and t. ",
    "\n",
    "     * Output: All distinct k-mers forming (L, t)-clumps in Genome.\n",
    "\n",
    "Don’t worry about writing an algorithm to solve the Clump Finding Problem; we have done it for you. When we used this algorithm to look for clumps in the Escherichia coli (E. coli) genome, the workhorse of bacterial genomics, we found hundreds of different 9-mers forming (500, 3)-clumps in this genome. It is absolutely unclear which of these 9-mers might represent a DnaA box in the bacterium’s ori region.\n",
    "\n",
    "STOP and Think: Should we give up? If not, what would you do now?\n",
    "\n",
    "At this point, an unseasoned researcher might give up, since it appears that we do not have enough information to locate ori in E. coli. But a fearless veteran bioinformatician would try to learn more about the details of replication in the hope that they provide new algorithmic insights into finding ori.\n"
   ]
  },
  {
   "cell_type": "code",
   "execution_count": null,
   "metadata": {
    "collapsed": true
   },
   "outputs": [],
   "source": []
  }
 ],
 "metadata": {
  "kernelspec": {
   "display_name": "Python 3",
   "language": "python",
   "name": "python3"
  },
  "language_info": {
   "codemirror_mode": {
    "name": "ipython",
    "version": 3
   },
   "file_extension": ".py",
   "mimetype": "text/x-python",
   "name": "python",
   "nbconvert_exporter": "python",
   "pygments_lexer": "ipython3",
   "version": "3.4.5"
  }
 },
 "nbformat": 4,
 "nbformat_minor": 0
}
