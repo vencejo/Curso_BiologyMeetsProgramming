{
 "cells": [
  {
   "cell_type": "markdown",
   "metadata": {},
   "source": [
    "<img align=\"left\" style=\"padding-right:10px;\" src=\"figures/cartel.jpg\">\n",
    "<!--COURSE_INFORMATION-->\n",
    "## This notebook contains the index from the course [Biology Meets Programming](https://www.coursera.org/learn/bioinformatics/home/welcome) by University of California in Coursera \n",
    "\n",
    "\n",
    "### The content is available [on GitHub](https://github.com/vencejo/Curso_BiologyMeetsProgramming)."
   ]
  },
  {
   "cell_type": "markdown",
   "metadata": {},
   "source": [
    "<!--NAVIGATION-->\n",
    "< [3.2 Motif Finding is More Difficult Than You Think](3.2 Motif Finding is More Difficult Than You Think.ipynb)| [Contents](Index.ipynb) | [3.4 Greedy Motif Search](3.4 Greedy Motif Search.ipynb)>"
   ]
  },
  {
   "cell_type": "markdown",
   "metadata": {},
   "source": [
    "### From motifs to profile matrices and consensus strings\n",
    "\n",
    "A computational problem formulation for motif finding would score individual instances of motifs depending on how similar they are to an “ideal” motif (i.e., a transcription factor binding site that binds the best to the transcription factor). However, ** since the ideal motif is unknown **, we attempt to select a k-mer from each string and score these k-mers depending on how similar they are to each other.\n",
    "\n",
    "To define scoring, consider a list of t DNA strings Dna, where each string has length n, and select a k-mer from each string to form a collection Motifs, which we represent as a t x k motif matrix. In the figure below, which shows the motif matrix for the NF-κB binding sites from the figure below, we indicate the most frequent nucleotide in each column of the motif matrix by upper case letters. If there are multiple most frequent nucleotides in a column, then we arbitrarily select one of them to break the tie. Note that positions 2 and 3 are the most conserved (nucleotide G is completely conserved in these positions), whereas position 10 is the least conserved.\n",
    "\n",
    "<img align=\"center\" style=\"padding-right:10px;\" src=\"figures/fig36.png\">"
   ]
  },
  {
   "cell_type": "markdown",
   "metadata": {},
   "source": [
    "\n",
    "\n",
    "In Python, we will represent a motif matrix as a list of strings Motifs. We can access the i-th string in the motif matrix by calling Motifs[i]; we can access the j-th symbol in this string by calling Motifs[i][j].\n",
    "\n",
    "Python Practice: To practice working with lists, complete the “Lists and Functions” lesson (18 exercises) in Unit 7 of Codecademy.\n",
    "\n",
    "By varying the choice of k-mers in each string, we can construct a large number of different motif matrices from a given sample of DNA strings. Our goal is to select k-mers resulting in the most “conserved” motif matrix, meaning the matrix with the most upper case letters (and thus the fewest number of lower case letters). ** Leaving aside the question of how we select such k-mers, we will first focus on how to score the resulting motif matrices **, defining Score(Motifs) as the number of unpopular (lower case) letters in the motif matrix Motifs (see updated figure below). Our goal is to find a collection of k-mers that minimizes this score (for more on motif scoring functions, see DETOUR: Motif Scoring Functions).\n",
    "\n",
    "<img align=\"center\" style=\"padding-right:10px;\" src=\"figures/fig37.png\">\n"
   ]
  },
  {
   "cell_type": "markdown",
   "metadata": {},
   "source": [
    "For a given choice of Motifs, we can construct a 4 x k count matrix, denoted Count(Motifs), counting the number of occurrences of each nucleotide in each column of the motif matrix; element (i,j) of Count(Motifs) stores the number of times that nucleotide i appears in column j of Motifs. (See updated figure below).\n",
    "\n",
    "<img align=\"center\" style=\"padding-right:10px;\" src=\"figures/fig38.png\">"
   ]
  },
  {
   "cell_type": "markdown",
   "metadata": {},
   "source": [
    "One way of representing a count matrix in Python is to create a list for each row of the matrix and then organize these lists into a larger dictionary (thus creating a dictionary whose keys are nucleotides and whose values are lists). For example, given the count matrix from the previous step:\n",
    "\n",
    "```python\n",
    "count = {\"A\": [2, 2, 0, 0, 0, 0, 9, 1, 1, 1, 3, 0],\n",
    "         \"C\": [1, 6, 0, 0, 0, 0, 0, 4, 1, 2, 4, 6],\n",
    "         \"G\": [0, 0,10,10, 9, 9, 1, 0, 0, 0, 0, 0],\n",
    "         \"T\": [7, 2, 0, 0, 1, 1, 0, 5, 8, 7, 3, 4]\n",
    "        } \n",
    "```"
   ]
  },
  {
   "cell_type": "markdown",
   "metadata": {},
   "source": [
    "To generate a count matrix from an arbitrary list of strings Motifs, we need to first initialize the count matrix, represented as a dictionary:\n",
    "\n",
    "```python\n",
    "count = {} \n",
    "```\n",
    "We then range over all nucleotides symbol and create a list of zeroes corresponding to count[symbol].\n",
    "\n",
    "```python\n",
    "    k = len(Motifs[0])\n",
    "    for symbol in \"ACGT\":\n",
    "        count[symbol] = []\n",
    "        for j in range(k):\n",
    "             count[symbol].append(0)\n",
    " \n",
    "```\n",
    "Note that the first line above sets k equal to the length of Motifs[0], the first string in Motifs, which is the length of every string in Motifs. Also, note the difference between the line count = {} (which forms an empty dictionary) and the line count[symbol] = [] (which forms an empty list). Finally, we need to range over all elements symbol = Motifs(i)(j) of the count matrix and add 1 to count(symbol)(j).\n",
    "\n",
    "```python\n",
    "    t = len(Motifs)\n",
    "    for i in range(t):\n",
    "        for j in range(k):\n",
    "            symbol = Motifs[i][j]\n",
    "            count[symbol][j] += 1\n",
    " \n",
    "```\n",
    "Code Challenge (1 point): Write a function Count(Motifs) that takes a list of strings Motifs as input and returns the count matrix of  Motifs (as a dictionary of lists). Then place this function into a new Python file for this chapter called \"Motifs.py\".\n",
    "\n",
    "Click here for this problem's test datasets.\n",
    "\n",
    "Sample Input:\n",
    "\n",
    "AACGTA\n",
    "CCCGTT\n",
    "CACCTT\n",
    "GGATTA\n",
    "TTCCGG\n",
    "\n",
    "Sample Output:\n",
    "\n",
    "{'A': [1, 2, 1, 0, 0, 2], 'C': [2, 1, 4, 2, 0, 0], 'G': [1, 1, 0, 2, 1, 1], 'T': [1, 1, 0, 1, 4, 2]}\n",
    "\n",
    "```python\n",
    "\n",
    "def Count(Motifs):\n",
    "    count = {}\n",
    "    k = len(Motifs[0])\n",
    "    for symbol in \"ACGT\":\n",
    "        count[symbol] = []\n",
    "        for j in range(k):\n",
    "            count[symbol].append(0)\n",
    "\n",
    "    t = len(Motifs)\n",
    "    for i in range(t):\n",
    "        for j in range(k):\n",
    "            symbol = Motifs[i][j]\n",
    "            count[symbol][j] += 1\n",
    "            \n",
    "    return  count\n",
    "\n",
    " \n",
    "```"
   ]
  },
  {
   "cell_type": "markdown",
   "metadata": {},
   "source": [
    "As shown below, we will further divide all of the elements in the count matrix by t, the number of rows in Motifs. This results in a profile matrix Profile(Motifs) for which element (i,j) is the frequency of the i-th nucleotide in the j-th column of the motif matrix (i.e., the number of occurrences of the i-th nucleotide divided by t, the number of nucleotides in the column). Note that the elements of any column of the profile matrix sum to 1.\n",
    "\n",
    "<img align=\"center\" style=\"padding-right:10px;\" src=\"figures/fig39.png\">"
   ]
  },
  {
   "cell_type": "markdown",
   "metadata": {},
   "source": [
    "\n",
    "\n",
    "Now that we can generate Count(Motifs), in order to compute Profile(Motifs), we simply need to divide each element of the count matrix by the number of rows in the count matrix, which we leave to you as an exercise.\n",
    "\n",
    "Code Challenge (3 points): Write a function Profile(Motifs) that takes Motifs as input and returns their profile matrix as a dictionary of lists. Then place this function into Motifs.py. Make sure that you use the Count(Motifs) function that we already wrote as a subroutine!\n",
    "\n",
    "Click here for this problem's test datasets.\n",
    "\n",
    "Sample Input:\n",
    "\n",
    "AACGTA\n",
    "CCCGTT\n",
    "CACCTT\n",
    "GGATTA\n",
    "TTCCGG\n",
    "\n",
    "Sample Output:\n",
    "\n",
    "{'A': [0.2, 0.4, 0.2, 0.0, 0.0, 0.4], 'C': [0.4, 0.2, 0.8, 0.4, 0.0, 0.0], 'G': [0.2, 0.2, 0.0, 0.4, 0.2, 0.2], 'T': [0.2, 0.2, 0.0, 0.2, 0.8, 0.4]}\n",
    "\n",
    "```python\n",
    "\n",
    "# Input:  A list of kmers Motifs\n",
    "# Output: the profile matrix of Motifs, as a dictionary of lists.\n",
    "def Profile(Motifs):\n",
    "    profile = {}\n",
    "    count = Count(Motifs)\n",
    "    k = len(Motifs[0])\n",
    "    for symbol in \"ACGT\":\n",
    "        profile[symbol] = []\n",
    "        for j in range(k):\n",
    "            total = count[\"A\"][j] + count[\"C\"][j] + count[\"G\"][j] + count[\"T\"][j]\n",
    "            profile[symbol].append(count[symbol][j]/total)\n",
    "\n",
    "    return profile\n",
    "\n",
    "```\n",
    "\n"
   ]
  },
  {
   "cell_type": "markdown",
   "metadata": {},
   "source": [
    "Finally, we can form a **consensus string**, denoted Consensus(Motifs), from the most popular nucleotides in each column of the motif matrix (ties are broken arbitrarily). If we select Motifs correctly from the collection of upstream regions, then Consensus(Motifs) provides a candidate regulatory motif for these regions. For example, as shown below, the consensus string for the NF-κB binding sites is \"TCGGGGATTTCC\".\n",
    "\n",
    "<img align=\"center\" style=\"padding-right:10px;\" src=\"figures/fig40.png\">"
   ]
  },
  {
   "cell_type": "markdown",
   "metadata": {},
   "source": [
    "We can implement Consensus(Motifs) using Count(Motifs) as a subroutine. To do so, note that the j-th symbol of this consensus string is equal to the symbol corresponding to a maximum element in column j of Count(Motifs).\n",
    "\n",
    "To implement this idea in Python, first set k equal to the length of Motifs[0] (as we did before) and count equal to the count matrix of Motifs.\n",
    "\n",
    "```python\n",
    "    k = len(Motifs[0])\n",
    "    count = Count(Motifs)\n",
    "```\n",
    "\n",
    "Then, initialize an empty consensus string, and range through each column of the count matrix, adding the maximum element from column j at step j.\n",
    "\n",
    "\n",
    "```python\n",
    "    consensus = \"\"\n",
    "    for j in range(k):\n",
    "        m = 0\n",
    "        frequentSymbol = \"\"\n",
    "        for symbol in \"ACGT\":\n",
    "            if count[symbol][j] > m:\n",
    "                m = count[symbol][j]\n",
    "                frequentSymbol = symbol\n",
    "        consensus += frequentSymbol\n",
    "\n",
    "```\n",
    "Code Challenge (1 point): Put this code into a function Consensus(Motifs) that takes a list of strings Motifs as input and returns the consensus string of  Motifs. Then copy this function into Motifs.py.\n",
    "\n",
    "Click here for this problem's test datasets.\n",
    "\n",
    "Sample Input:\n",
    "\n",
    "AACGTA\n",
    "CCCGTT\n",
    "CACCTT\n",
    "GGATTA\n",
    "TTCCGG\n",
    "\n",
    "Sample Output:\n",
    "\n",
    "CACCTA\n",
    "\n",
    "\n",
    "```python\n",
    "# Input:  A set of kmers Motifs\n",
    "# Output: A consensus string of Motifs.\n",
    "def Consensus(Motifs):\n",
    "    k = len(Motifs[0])\n",
    "    count = Count(Motifs)\n",
    "    consensus = \"\"\n",
    "    for j in range(k):\n",
    "        m = 0\n",
    "        frequentSymbol = \"\"\n",
    "        for symbol in \"ACGT\":\n",
    "            if count[symbol][j] > m:\n",
    "                m = count[symbol][j]\n",
    "                frequentSymbol = symbol\n",
    "        consensus += frequentSymbol\n",
    "\n",
    "    return consensus\n",
    "\n",
    "```"
   ]
  },
  {
   "cell_type": "markdown",
   "metadata": {},
   "source": [
    "\n",
    "\n",
    "Finally, we can compute Score(Motifs) by first constructing Consensus(Motifs) and then summing the number of symbols in the j-th column of Motifs that do not match the symbol in position j of the consensus string. We leave this task to you as an exercise.\n",
    "\n",
    "Code Challenge (3 points): Implement the function Score(Motifs). (Make sure you use Consensus(Motifs) as a subroutine!)  Then add Score(Motifs) to Motifs.py.\n",
    "\n",
    "Click here for this problem's test datasets.\n",
    "\n",
    "Sample Input:\n",
    "\n",
    "AACGTA\n",
    "CCCGTT\n",
    "CACCTT\n",
    "GGATTA\n",
    "TTCCGG\n",
    "\n",
    "Sample Output:\n",
    "\n",
    "14\n",
    "\n",
    "```python\n",
    "# Input:  A set of k-mers Motifs\n",
    "# Output: The score of these k-mers.\n",
    "def Score(Motifs):\n",
    "    score = 0\n",
    "    k = len(Motifs[0])\n",
    "    t = len(Motifs)\n",
    "    consensus = Consensus(Motifs)\n",
    "\n",
    "    for j in range(k):\n",
    "        cont = 0\n",
    "        for i in range(t):\n",
    "            if Motifs[i][j] != consensus[j]:\n",
    "                cont += 1\n",
    "        score += cont\n",
    "\n",
    "    return score\n",
    "\n",
    "```\n",
    "\n"
   ]
  },
  {
   "cell_type": "markdown",
   "metadata": {},
   "source": [
    "Biologists also commonly use a motif logo, a diagram for visualizing motif conservation that consists of a stack of letters at each position (see the figure below). The relative sizes of letters indicate their frequency in the column, i.e., highly conserved columns in the motif matrix correspond to tall symbols in the motif logo. (For more on motif logos, see [3.7 Detour Motif Scoring Functions](3.7 Detour Motif Scoring Functions.ipynb)).\n",
    "\n",
    "<img align=\"center\" style=\"padding-right:10px;\" src=\"figures/fig41.png\">"
   ]
  },
  {
   "cell_type": "markdown",
   "metadata": {},
   "source": [
    "\n",
    "### The Motif Finding Problem\n",
    "\n",
    "Now that we have a good grasp of scoring a collection of k-mers, we are ready to formulate a computational problem for motif finding. \n",
    "\n",
    "**Motif Finding Problem**: ",
    " Given a collection of strings, find a set of k-mers, one from each string, that minimizes the score of the resulting motif.\n",
    "\n",
    "* Input: A collection of strings Dna and an integer k.\n",
    "* Output: A collection Motifs of k-mers, one from each string in Dna, minimizing Score(Motifs) among\n",
    "    all possible choices of k-mers.\n",
    "\n",
    "** Brute force search ** (also known as ** exhaustive search **) is a general problem-solving technique that explores all possible candidate solutions and checks whether each candidate solves the problem. Such algorithms require little effort to design and are guaranteed to produce a correct solution, but they may take an enormous amount of time, and the number of candidates may be too large to check.\n",
    "\n",
    "A brute force algorithm for the Motif Finding Problem, BruteForceMotifSearch, considers every possible choice of k-mers Motifs from Dna (one k-mer from each string of n nucleotides) and returns the collection Motifs having minimum score.\n",
    "\n",
    "STOP and Think: Do you see any potential issues with the proposed BruteForceMotifSearch algorithm?\n"
   ]
  },
  {
   "cell_type": "markdown",
   "metadata": {},
   "source": [
    "\n",
    "### Analyzing the runtime of brute force motif finding\n",
    "\n",
    "Throughout this chapter, we will benchmark our motif finding algorithms by using a **Subtle Motif Problem** that refers to implanting a 15-mer with four random mutations in ten randomly generated 600 nucleotide-long strings (the typical length of many upstream regulatory regions). The instance of the Subtle Motif Problem that we will use has the implanted 15-mer \"AAAAAAAAGGGGGGG\".\n",
    "\n",
    "To benchmark BruteForceMotifSearch, note that there are n-k+1 choices of k-mers in each of t strings, so that there are (n-k+1)t different ways to form Motifs. For each choice of Motifs, the algorithm calculates Score(Motifs), which requires k⋅t steps. Thus, assuming that k is much smaller than n (as is the case for biological datasets), the overall running time of the brute force motif finding algorithm is on the order of ((n-k+1)t)⋅k⋅t steps. For the Subtle Motif Problem, this is on the order of 1029 steps. You may recall that the naive algorithm we developed to generate a symbol array in Chapter 1 took several days to carry out an algorithm with just 1013 steps. In this case, the earth will have been destroyed by the sun long before BruteForceMotifSearch will terminate. It goes without saying that we need to devise a faster algorithm!\n",
    "\n",
    "We have also thus far assumed that the value of k is known in advance, which is not the case in practice. As a result, we are forced to run our motif finding algorithms for different values of k and then try to deduce the correct motif length. Since some regulatory motifs are rather long, BruteForceMotifSearch will be too slow to find them.\n"
   ]
  },
  {
   "cell_type": "markdown",
   "metadata": {
    "collapsed": true
   },
   "source": [
    "<!--NAVIGATION-->\n",
    "< [3.2 Motif Finding is More Difficult Than You Think](3.2 Motif Finding is More Difficult Than You Think.ipynb)| [Contents](Index.ipynb) | [3.4 Greedy Motif Search](3.4 Greedy Motif Search.ipynb)>"
   ]
  },
  {
   "cell_type": "code",
   "execution_count": null,
   "metadata": {
    "collapsed": true
   },
   "outputs": [],
   "source": []
  }
 ],
 "metadata": {
  "kernelspec": {
   "display_name": "Python 3",
   "language": "python",
   "name": "python3"
  },
  "language_info": {
   "codemirror_mode": {
    "name": "ipython",
    "version": 3
   },
   "file_extension": ".py",
   "mimetype": "text/x-python",
   "name": "python",
   "nbconvert_exporter": "python",
   "pygments_lexer": "ipython3",
   "version": "3.4.5"
  }
 },
 "nbformat": 4,
 "nbformat_minor": 0
}
